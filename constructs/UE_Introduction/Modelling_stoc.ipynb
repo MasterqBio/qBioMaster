{
 "cells": [
  {
   "cell_type": "markdown",
   "metadata": {},
   "source": [
    "# Modelling toolbox: stochastic simulations\n",
    "\n",
    "*22nd September 2021* - **Credits:** Luca Ciandrini (luca.ciandrini@umontpellier.fr)\n",
    "\n",
    "---"
   ]
  },
  {
   "cell_type": "markdown",
   "metadata": {},
   "source": [
    "## Discrete stochastic"
   ]
  },
  {
   "cell_type": "code",
   "execution_count": null,
   "metadata": {},
   "outputs": [],
   "source": [
    "import matplotlib.pyplot as plt ## matplotlib is a module for plotting in python\n",
    "import numpy as np\n",
    "\n",
    "alpha = 1\n",
    "mu = 0.1 \n",
    "delta_t = 0.01\n",
    "\n",
    "X = 0\n",
    "t = 0\n",
    "\n",
    "Xt = []\n",
    "times = []\n",
    "Xt.append(X)\n",
    "times.append(t)\n",
    "\n",
    "prob_prod = alpha*delta_t\n",
    "prob_deg = X*mu*delta_t\n",
    "\n",
    "t_max = 100"
   ]
  },
  {
   "cell_type": "markdown",
   "metadata": {},
   "source": [
    "What are the 3 possible events in each time step? With which probability?\n",
    "\n",
    "We are going to use the `random` library https://docs.python.org/3/library/random.html .\n",
    "\n",
    "How would you try to simulate this situation? Think before looking down...\n",
    "\n"
   ]
  },
  {
   "cell_type": "code",
   "execution_count": null,
   "metadata": {},
   "outputs": [],
   "source": [
    "from random import random\n",
    "\n",
    "while t < t_max :\n",
    "    \n",
    "    t += delta_t\n",
    "    \n",
    "    ran = random()\n",
    "    \n",
    "    prob_deg = X*mu*delta_t # Why do you have to compute that at each time step?\n",
    "    \n",
    "    if ran <= prob_prod:\n",
    "        # production of 1 protein\n",
    "        X = X + 1\n",
    "    if ran > prob_prod and ran <= prob_prod + prob_deg :\n",
    "        # degradation of 1 protein\n",
    "        X = X - 1\n",
    "        \n",
    "    Xt.append(X)\n",
    "    times.append(t)\n",
    "    "
   ]
  },
  {
   "cell_type": "code",
   "execution_count": null,
   "metadata": {},
   "outputs": [],
   "source": [
    "plt.plot(times,Xt, 'gray', label='simulations') \n",
    "\n",
    "#plt.ylim(0.,20.)\n",
    "#plt.xlim(0.,t[-1])\n",
    "plt.xlabel('t', fontsize = 14)\n",
    "plt.ylabel('X', fontsize = 14)\n",
    "plt.title('Discrete stochastic model')\n",
    "plt.legend()\n",
    "plt.show()"
   ]
  },
  {
   "cell_type": "markdown",
   "metadata": {},
   "source": [
    "You can repeat the procedure and plot several *realisations*."
   ]
  },
  {
   "cell_type": "code",
   "execution_count": null,
   "metadata": {},
   "outputs": [],
   "source": [
    "def sim_ge(a,m,delta,T):\n",
    "    \n",
    "    alpha = a\n",
    "    mu = m \n",
    "    delta_t = delta\n",
    "\n",
    "    X = 0\n",
    "    t = 0.\n",
    "\n",
    "    Xt = []\n",
    "    times = []\n",
    "    Xt.append(X)\n",
    "    times.append(t)\n",
    "\n",
    "    prob_prod = alpha*delta_t\n",
    "\n",
    "    \n",
    "    while t < T :\n",
    "    \n",
    "        t += delta_t\n",
    "    \n",
    "        ran = random()\n",
    "    \n",
    "        prob_deg = X*mu*delta_t # Why do you have to compute that at each time step?\n",
    "    \n",
    "        if ran <= prob_prod:\n",
    "            # production of 1 protein\n",
    "            X = X + 1\n",
    "        if ran > prob_prod and ran <= prob_prod + prob_deg :\n",
    "            # degradation of 1 protein\n",
    "            X = X - 1\n",
    "        \n",
    "        Xt.append(X)\n",
    "        times.append(t)\n",
    "    \n",
    "    return [times, Xt]"
   ]
  },
  {
   "cell_type": "code",
   "execution_count": null,
   "metadata": {},
   "outputs": [],
   "source": [
    "outcome = sim_ge(1,0.1,0.01,100)"
   ]
  },
  {
   "cell_type": "code",
   "execution_count": null,
   "metadata": {},
   "outputs": [],
   "source": [
    "N_realisation = 10\n",
    "\n",
    "t_realisation = []\n",
    "X_realisation = []\n",
    "\n",
    "delta_t = 0.01\n",
    "for i in range(0,N_realisation):\n",
    "    outcome = sim_ge(1,0.1,delta_t,100)\n",
    "    \n",
    "    t_realisation.append(outcome[0])\n",
    "    X_realisation.append(outcome[1])\n",
    "    #plt.plot(outcome[0],outcome[1], label=i) "
   ]
  },
  {
   "cell_type": "code",
   "execution_count": null,
   "metadata": {},
   "outputs": [],
   "source": [
    "for i in range(0,N_realisation):\n",
    "    plt.plot(t_realisation[i],X_realisation[i], label=i) \n",
    "    \n",
    "\n",
    "plt.xlabel('t', fontsize = 14)\n",
    "plt.ylabel('X', fontsize = 14)\n",
    "plt.title('Discrete stochastic model')\n",
    "plt.legend(loc=1)\n",
    "plt.show()"
   ]
  },
  {
   "cell_type": "markdown",
   "metadata": {},
   "source": [
    "What is the relation with the deterministic model?"
   ]
  },
  {
   "cell_type": "code",
   "execution_count": null,
   "metadata": {},
   "outputs": [],
   "source": [
    "##### Plot the stochastic simulations \n",
    "for i in range(0,N_realisation):\n",
    "    plt.plot(t_realisation[i],X_realisation[i], label=i) \n",
    "    \n",
    "\n",
    "\n",
    "##### deterministic solution we found.\n",
    "t = np.arange(0,100,.1) \n",
    "\n",
    "X = (alpha/mu)*(1.-np.exp(-mu*t))  \n",
    "plt.plot(t,X, lw=3,color='red', label='analytical')\n",
    "\n",
    "plt.xlabel('t', fontsize = 14)\n",
    "plt.ylabel('X', fontsize = 14)\n",
    "plt.title('Discrete stochastic model')\n",
    "plt.legend(loc=1)\n",
    "plt.show()\n"
   ]
  },
  {
   "cell_type": "markdown",
   "metadata": {},
   "source": [
    "- To be done: Compare mean value of trajectories with the analatycal solution.\n",
    "- What about the steady state?"
   ]
  },
  {
   "cell_type": "code",
   "execution_count": null,
   "metadata": {},
   "outputs": [],
   "source": [
    "t_ss = int(50/delta_t)\n",
    "plt.plot(t_realisation[0][t_ss:],X_realisation[0][t_ss:])"
   ]
  },
  {
   "cell_type": "code",
   "execution_count": null,
   "metadata": {},
   "outputs": [],
   "source": [
    "X_tot = []\n",
    "for i in range(0,N_realisation): X_tot.extend(X_realisation[i][t_ss:])\n",
    "plt.hist(X_tot, density=True, bins = max(X_tot)- min(X_tot)+1);"
   ]
  },
  {
   "cell_type": "code",
   "execution_count": null,
   "metadata": {},
   "outputs": [],
   "source": [
    "from scipy.stats import poisson\n",
    "\n",
    "mean = alpha/mu\n",
    "\n",
    "x = np.arange(poisson.ppf(0.01, mean),\n",
    "              poisson.ppf(0.99, mean))\n",
    "plt.plot(x, poisson.pmf(x, mean), 'o', ms=8, color='orange', label='poisson pmf')\n",
    "plt.hist(X_tot, density=True, bins = max(X_tot)- min(X_tot)+1);"
   ]
  },
  {
   "cell_type": "markdown",
   "metadata": {},
   "source": [
    "- What are the advantages of this method?\n",
    "- What are the drawbacks?\n",
    "---"
   ]
  },
  {
   "cell_type": "markdown",
   "metadata": {},
   "source": [
    "## Kinetic Monte Carlo (Gillespie Algorithm)\n",
    "\n",
    "The Gillespie algorithm is used to simulate trajectories of a system of stochastic equations for which the reaction rates are known. It is a discrete event simulation algorithm, but the $\\Delta t$ varies.\n",
    "\n",
    "There are two random numbers involved: one for the choice of the reaction (`r`), the other for the time interval (`dt`). The first is extracted from a uniform distribution, the second from an exponential (from [inverse sampling](https://stats.stackexchange.com/questions/508749/generating-random-samples-obeying-the-exponential-distribution-with-a-given-min) as done here or you could just use a python module)."
   ]
  },
  {
   "cell_type": "code",
   "execution_count": null,
   "metadata": {},
   "outputs": [],
   "source": [
    "# Step 1: Initialise\n",
    "t_gil = 0\n",
    "x_gil = 0\n",
    "\n",
    "T_gil = []\n",
    "X_gil = []\n",
    "T_gil.append(t_gil)\n",
    "X_gil.append(x_gil)\n",
    "\n",
    "alpha = 1.\n",
    "mu = 0.1 "
   ]
  },
  {
   "cell_type": "code",
   "execution_count": null,
   "metadata": {},
   "outputs": [],
   "source": [
    "# Step 2: define the propensities of all possible events\n",
    "a = []\n",
    "a.append(alpha) # production - reaction 0\n",
    "a.append(mu*x_gil) # degradation - reaction 1\n",
    "A = sum(a)\n",
    "print(a, A)"
   ]
  },
  {
   "cell_type": "code",
   "execution_count": null,
   "metadata": {},
   "outputs": [],
   "source": [
    "# Step 3: find the next time \n",
    "r1 = random()\n",
    "dt = (1./A)*np.log(1./r1)\n",
    "print(r1, dt)\n",
    "\n"
   ]
  },
  {
   "cell_type": "code",
   "execution_count": null,
   "metadata": {},
   "outputs": [],
   "source": [
    "# Step 4: pick the reaction\n",
    "r2 = A*random()\n",
    "if r2 < a[0]:\n",
    "    x_gil += 1 # create a protein\n",
    "else :\n",
    "    x_gil -= 1 # destroy a protein\n",
    "\n",
    "print(x_gil)\n"
   ]
  },
  {
   "cell_type": "code",
   "execution_count": null,
   "metadata": {},
   "outputs": [],
   "source": [
    "# Step 5: record simulation time and state\n",
    "t_gil += dt\n",
    "T_gil.append(t_gil)\n",
    "X_gil.append(x_gil)"
   ]
  },
  {
   "cell_type": "code",
   "execution_count": null,
   "metadata": {},
   "outputs": [],
   "source": [
    "# Step 6: repeat until done\n",
    "\n",
    "t_max = 100\n",
    "while (t_gil<t_max):\n",
    "    \n",
    "    # Step 2: define the propensities of all possible events\n",
    "    a[1] = mu*x_gil # degradation - reaction 1 (production does not change, no need to update)\n",
    "    A = sum(a)\n",
    "   \n",
    "    \n",
    "    # Step 3: find the next time \n",
    "    r1 = random()\n",
    "    dt = (1./A)*np.log(1./r1)\n",
    "    \n",
    "    # Step 4: pick the reaction\n",
    "    r2 = A*random()\n",
    "    if r2 < a[0]:\n",
    "        x_gil += 1 # create a protein\n",
    "    else :\n",
    "        x_gil -= 1 # destroy a protein\n",
    "        \n",
    "    # Step 5: record simulation time and state\n",
    "    t_gil += dt\n",
    "    T_gil.append(t_gil)\n",
    "    X_gil.append(x_gil)\n",
    "    "
   ]
  },
  {
   "cell_type": "code",
   "execution_count": null,
   "metadata": {},
   "outputs": [],
   "source": [
    "plt.plot(T_gil,X_gil, 'gray', label='simulations') \n",
    "\n",
    "#plt.ylim(0.,20.)\n",
    "#plt.xlim(0.,t[-1])\n",
    "plt.xlabel('t', fontsize = 14)\n",
    "plt.ylabel('X', fontsize = 14)\n",
    "plt.title('Gillespie algorithm')\n",
    "\n",
    "\n",
    "##### deterministic solution we found.\n",
    "t = np.arange(0,100,.1) \n",
    "\n",
    "X = (alpha/mu)*(1.-np.exp(-mu*t))  \n",
    "plt.plot(t,X, lw=3,color='red', label='analytical')\n",
    "\n",
    "\n",
    "plt.legend()\n",
    "plt.show()"
   ]
  },
  {
   "cell_type": "code",
   "execution_count": null,
   "metadata": {},
   "outputs": [],
   "source": []
  },
  {
   "cell_type": "code",
   "execution_count": null,
   "metadata": {},
   "outputs": [],
   "source": []
  }
 ],
 "metadata": {
  "kernelspec": {
   "display_name": "Python 3 (ipykernel)",
   "language": "python",
   "name": "python3"
  },
  "language_info": {
   "codemirror_mode": {
    "name": "ipython",
    "version": 3
   },
   "file_extension": ".py",
   "mimetype": "text/x-python",
   "name": "python",
   "nbconvert_exporter": "python",
   "pygments_lexer": "ipython3",
   "version": "3.9.7"
  }
 },
 "nbformat": 4,
 "nbformat_minor": 4
}
