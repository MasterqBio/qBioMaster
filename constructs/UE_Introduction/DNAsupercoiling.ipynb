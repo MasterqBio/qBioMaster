{
 "cells": [
  {
   "cell_type": "markdown",
   "metadata": {},
   "source": [
    "# DNA supercoiling construct\n",
    "\n",
    "## aims\n",
    "\n",
    "In this tutorial you will \n",
    "\n",
    "1. Read tutorials on \n",
    "    - DNA supercoling. \n",
    "    - Why is DNA supercoiled? \n",
    "    - What is the supercoiling state of DNA in a cell?  \n",
    "    - Proteins acting on DNA management: replichore, topoisomerases, RNA polymerase, translocases and helicases. \n",
    "    - Example for bacteria. \n",
    "    - How can DNA supercoiling be manipulated in vitro? Principles and applications of magnetic tweezers.\n",
    "2. Answer questionnaire\n",
    "3. Further reading\n",
    "\n",
    "## credits\n",
    "\n",
    "Marcelo Nollmann, July 2021\n",
    "\n",
    "---"
   ]
  },
  {
   "cell_type": "markdown",
   "metadata": {},
   "source": [
    "### 1- DNA supercoiling resources\n",
    "\n",
    "In this part, you should read a basic tutorial on DNA supercoiling. There are standard sources that you can follow for this:\n",
    "- Listen to [this video](https://www.youtube.com/watch?v=DxREU4puGyc) on DNA topology, which will introduce linking number, writhe and twist.\n",
    "- Look at [this resource](https://www.youtube.com/watch?v=EYGrElVyHnU) and then [this video](https://www.youtube.com/watch?v=5hwaDamU-jo) to learn about the roles of topoisomerases in changing DNA topology in the cell.\n",
    "- You can read this [tutorial by Valentin Rybenkov](https://www.frontiersin.org/articles/10.3389/fphy.2016.00048/full) or listen to this [video by Paul Selvin](https://www.youtube.com/watch?v=is16Lm7CQvk). These resources will describe the principles of magnetic tweezers, the measurement of forces and distances, and their use to manipulate and study DNA mechanics."
   ]
  },
  {
   "cell_type": "markdown",
   "metadata": {},
   "source": [
    "### 2- Questionnaire\n",
    "\n",
    "Plase answer the following questions\n",
    "- Explain how writhe can be converted into twist\n",
    "- Do cells maintain a constant or variable level of supercoiling? Why?\n",
    "- What class of enzymes change DNA supercoiling? What are the basics catalytic steps?\n",
    "- How can Lk be changed?\n",
    "- How can one change DNA supercoiling using a magnetic tweezers?\n",
    "- Can a magnetic tweezers measure DNA extension? How?"
   ]
  },
  {
   "cell_type": "markdown",
   "metadata": {},
   "source": [
    "### 3- Further reading\n",
    "\n",
    "Read the following papers to understand how magnetic tweezers can be used to understand topoisomerase action.\n",
    "- [Study of DNA gyrase](resources/Nollmann_gyrase.pdf)\n",
    "- [Study of topoII](resources/Strick_topoII.pdf)\n",
    "\n"
   ]
  }
 ],
 "metadata": {
  "kernelspec": {
   "display_name": "Python 3 (ipykernel)",
   "language": "python",
   "name": "python3"
  },
  "language_info": {
   "codemirror_mode": {
    "name": "ipython",
    "version": 3
   },
   "file_extension": ".py",
   "mimetype": "text/x-python",
   "name": "python",
   "nbconvert_exporter": "python",
   "pygments_lexer": "ipython3",
   "version": "3.9.18"
  }
 },
 "nbformat": 4,
 "nbformat_minor": 4
}
