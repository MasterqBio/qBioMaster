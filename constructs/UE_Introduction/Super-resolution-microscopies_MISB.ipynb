{
 "cells": [
  {
   "cell_type": "markdown",
   "metadata": {},
   "source": [
    "# Introduction to super-resolution microscopies\n",
    "\n",
    "## aims\n",
    "\n",
    "In this tutorial you will \n",
    "1. Read tutorials on SMLM microscopy\n",
    "2. Read tutorials on STED microscopy\n",
    "3. Read journal club paper\n",
    "4. Answer questionnaire\n",
    "5. Further reading\n",
    "\n",
    "## credits\n",
    "\n",
    "Marcelo Nollmann, Oct 2022\n"
   ]
  },
  {
   "cell_type": "markdown",
   "metadata": {},
   "source": [
    "### 1- Single-molecule localization microscopy (SMLM) resources\n",
    "\n",
    "In this part, you should watch two basic tutorials on SMLM microscopies. \n",
    "\n",
    "- [The invention of PALM microscopy by Eric Betzig and Harold Hess (15')](https://www.youtube.com/watch?v=GcQ24khZzvU). This is a very instructive story of how SMLM was invented\n",
    "- [A course on STORM microscopy by X. Zhuang (0-30')](https://www.youtube.com/watch?v=w2Qo__sppcI). This is an excellent resource to understand SMLM based on dye photophysics.\n",
    "\n",
    "### 2- Stimulated emission depletion microscopy (STED) resources\n",
    "\n",
    "In this part, you should watch a basic tutorial on STED microscopies by Stephan Hell:\n",
    "\n",
    "- [STED microscopy course by Stephan Hell (0-15')](https://www.youtube.com/watch?v=YyBGiZZSslY)\n",
    "\n",
    "#### Journal Club paper\n",
    "Please read the following paper so we can discuss it during the lecture:\n",
    "\n",
    "- [Single-particle tracking PALM used to study dynamics of RNA polymerase in bacteria](https://www.pnas.org/content/112/32/E4390.long)\n",
    "\n"
   ]
  },
  {
   "cell_type": "markdown",
   "metadata": {},
   "source": [
    "### 4- Questionnaire\n",
    "\n",
    "Plase answer the following questions\n",
    "\n",
    "#### SMLM\n",
    "- What is the typical resolution gain in SMLM? What does it depend on?\n",
    "- Mention the main advantages and disadvantages of SMLM over other super-resolution methods.\n",
    "- Is the same resolution gained in all dimensions?\n",
    "- What are the properties that fluorophores need to have to be able to achieve SMLM?\n",
    "\n",
    "#### STED\n",
    "- What is stimulated emission?\n",
    "- Why do we talk about 'stimulated emission' depletion?\n",
    "- What is the limit of resolution increase with STED?\n",
    "- Does STED increase resolution in the axial direction?\n",
    "\n",
    "\n",
    "### 5- Further reading\n",
    "\n",
    "These are some resources to keep on reading about super-resolution methods.\n",
    "\n",
    "\n",
    "#### SMLM\n",
    "\n",
    "Now that you know everything about SMLM microscopy, you can read on the following resources that will help you understand when and how SMLM microscopy is used in real life!\n",
    "\n",
    "- [See how an SMLM experiment is actually run](https://www.jove.com/v/59387/single-molecule-tracking-microscopy-tool-for-determining-diffusive)\n",
    "- [Reviews on 3D-SMLM](https://www.nature.com/articles/s43586-021-00038-x)\n",
    "- [A recent method to achieve 3D-SMLM](https://www.nature.com/articles/s41467-019-09901-8)\n",
    "\n",
    "#### STED\n",
    "\n",
    "- [Coaligned Dual-Channel STED Nanoscopy and Molecular Diffusion Analysis at 20 nm Resolution](https://www.sciencedirect.com/science/article/pii/S0006349513006127?via%3Dihub)\n",
    "\n",
    "#### Structured-illumination microscopy (SIM)\n",
    "\n",
    "If you want to find more about SIM, please follow these resources:\n",
    "- [David Agard's video on SIM](https://www.youtube.com/watch?v=i73HhpLJrqs)\n",
    "- [Structured Illumination Microscopy review](resources/3DSIM_review.pdf)\n",
    "    \n",
    "    \n",
    "#### MINFLUX\n",
    "\n",
    "- [MINFLUX microscopy delivers 3D imaging in cells](https://www.nature.com/articles/s41592-019-0688-0)"
   ]
  }
 ],
 "metadata": {
  "kernelspec": {
   "display_name": "Python 3 (ipykernel)",
   "language": "python",
   "name": "python3"
  },
  "language_info": {
   "codemirror_mode": {
    "name": "ipython",
    "version": 3
   },
   "file_extension": ".py",
   "mimetype": "text/x-python",
   "name": "python",
   "nbconvert_exporter": "python",
   "pygments_lexer": "ipython3",
   "version": "3.9.12"
  }
 },
 "nbformat": 4,
 "nbformat_minor": 4
}
