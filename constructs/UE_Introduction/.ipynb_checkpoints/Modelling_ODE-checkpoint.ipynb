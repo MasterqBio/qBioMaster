{
 "cells": [
  {
   "cell_type": "markdown",
   "metadata": {},
   "source": [
    "# Modelling toolbox: ODE\n",
    "\n",
    "*15th September 2022* - **Credits:** Luca Ciandrini (luca.ciandrini@umontpellier.fr)\n",
    "\n",
    "---\n",
    "## aims\n",
    "- Understand, formulate and analyse mathematical models based on ODEs, with basic analytical tools and numerically.\n",
    "- Grasp the difference between deterministic and stochastic processes and being able to describe the notion of noise.\n",
    "\n",
    "Today we are going to learn how to build up a simple model (for gene expression) with Ordinary Differential Equations (ODE). The tools that we will see can be exploited in many different contexts.\n",
    "\n",
    "Sketch a model based on ODE, simple solving techniques. Solve your system of equations with Python.\n"
   ]
  },
  {
   "cell_type": "markdown",
   "metadata": {},
   "source": [
    "### 1-resources\n",
    "- 3blue1brown on Differential equations, Chapter 1: https://www.3blue1brown.com/lessons/differential-equations \n",
    "- Strogatz, S. H. (2018). *Nonlinear Dynamics and Chaos: With Applications to Physics, Biology, Chemistry, and Engineering.* United States: CRC Press. The first chapter is available [here](https://www.google.fr/books/edition/Nonlinear_Dynamics_and_Chaos/1kpnDwAAQBAJ?hl=en&gbpv=1&printsec=frontcover)."
   ]
  },
  {
   "cell_type": "markdown",
   "metadata": {},
   "source": [
    "## Tutorial\n",
    "A **differential equation** is an equation that relates one or more unknown functions $\\mathbf{x}$ and their derivatives.\n",
    "\n",
    "An **ODE** is a differential equation containing one (or more) functions of **one** independent variable (for instance time $t$) and the derivatives of those functions.\n",
    "\n",
    "For instance, Newton's second law of motion is an example of ordinary differential equation. It gives the relationship between the (second) derivatative of the displacement $x$ (a function of the intendependent variable $t$) and the force $F$ (which is itself a function of the position). In one dimension:\n",
    "$$\n",
    "{\\displaystyle m{\\frac {\\mathrm {d} ^{2}x(t)}{\\mathrm {d} t^{2}}}=F(x(t))\\,.}\n",
    "$$\n",
    "\n",
    "\n",
    "More in general, we can write an Ordinary Differential Equations as:\n",
    "$$\n",
    "\\boxed{\\frac{d}{dt} \\mathbf{x}(t) = \\mathbf{f}(\\mathbf{x}(t)) \\,}\n",
    "$$\n",
    "and we can guess the solution with a few simple examples. \n",
    "\n",
    "\n",
    "### Discussion/questionnaire\n",
    "After reading \n",
    "**[Wil]** D.J. Wilkinson, *Stochastic modelling for quantitative description of heterogeneous biological systems*, Nature Reviews (2009) [doi:10.1038/nrg2509](doi:10.1038/nrg2509):\n",
    "- Discuss deteministic *vs* stochastic model;\n",
    "- Name a few approaches and explain them;\n",
    "\n",
    "---\n",
    "\n",
    "If we have time today we will also tackle a problem that cannot be studied with deterministic approaches because of its intrinsic stochastic behaviour: the partition problem. We look at the *fluctuations* in the partition of $N$ molecules from a mother in the two daughter cells, and we related that result to experimental outcomes.\n",
    "\n",
    "For next time you should also read \n",
    "- Theriot, J., Kondev, J., Garcia, H., Phillips, R. (2012). *Physical Biology of the Cell*. United Kingdom: CRC Press. Pages 43-48, available [here](https://www.google.fr/books/edition/Physical_Biology_of_the_Cell/t2SzDwAAQBAJ?hl=en&gbpv=1&printsec=frontcover)\n",
    "\n",
    "\n"
   ]
  },
  {
   "cell_type": "markdown",
   "metadata": {},
   "source": [
    "### Deterministic modelling\n",
    "\n",
    "#### Step 1. Guess an analytical solution\n",
    "\n",
    "Let's start with the example from [Wil]:\n",
    "$$\n",
    "\\frac{d X}{dt} = \\alpha - \\mu X \\,.\n",
    "$$\n",
    "\n",
    "- How can you solve it analytically?\n"
   ]
  },
  {
   "cell_type": "markdown",
   "metadata": {},
   "source": [
    "...\n",
    "<p>&nbsp;</p>\n",
    "<p>&nbsp;</p>\n",
    "<p>&nbsp;</p>\n",
    "\n",
    "You should find \n",
    "$$\n",
    "X(t) = \\frac{\\alpha}{\\mu}(1-e^{-\\mu t}) \\,.\n",
    "$$\n",
    "- What can you say about that?\n"
   ]
  },
  {
   "cell_type": "markdown",
   "metadata": {},
   "source": [
    "...\n",
    "<p>&nbsp;</p>\n",
    "<p>&nbsp;</p>\n",
    "<p>&nbsp;</p>\n",
    "Let's plot it now."
   ]
  },
  {
   "cell_type": "code",
   "execution_count": 1,
   "metadata": {},
   "outputs": [
    {
     "name": "stdout",
     "output_type": "stream",
     "text": [
      "[ 0.   0.1  0.2  0.3  0.4  0.5  0.6  0.7  0.8  0.9  1.   1.1  1.2  1.3\n",
      "  1.4  1.5  1.6  1.7  1.8  1.9  2.   2.1  2.2  2.3  2.4  2.5  2.6  2.7\n",
      "  2.8  2.9  3.   3.1  3.2  3.3  3.4  3.5  3.6  3.7  3.8  3.9  4.   4.1\n",
      "  4.2  4.3  4.4  4.5  4.6  4.7  4.8  4.9  5.   5.1  5.2  5.3  5.4  5.5\n",
      "  5.6  5.7  5.8  5.9  6.   6.1  6.2  6.3  6.4  6.5  6.6  6.7  6.8  6.9\n",
      "  7.   7.1  7.2  7.3  7.4  7.5  7.6  7.7  7.8  7.9  8.   8.1  8.2  8.3\n",
      "  8.4  8.5  8.6  8.7  8.8  8.9  9.   9.1  9.2  9.3  9.4  9.5  9.6  9.7\n",
      "  9.8  9.9 10.  10.1 10.2 10.3 10.4 10.5 10.6 10.7 10.8 10.9 11.  11.1\n",
      " 11.2 11.3 11.4 11.5 11.6 11.7 11.8 11.9 12.  12.1 12.2 12.3 12.4 12.5\n",
      " 12.6 12.7 12.8 12.9 13.  13.1 13.2 13.3 13.4 13.5 13.6 13.7 13.8 13.9\n",
      " 14.  14.1 14.2 14.3 14.4 14.5 14.6 14.7 14.8 14.9 15.  15.1 15.2 15.3\n",
      " 15.4 15.5 15.6 15.7 15.8 15.9 16.  16.1 16.2 16.3 16.4 16.5 16.6 16.7\n",
      " 16.8 16.9 17.  17.1 17.2 17.3 17.4 17.5 17.6 17.7 17.8 17.9 18.  18.1\n",
      " 18.2 18.3 18.4 18.5 18.6 18.7 18.8 18.9 19.  19.1 19.2 19.3 19.4 19.5\n",
      " 19.6 19.7 19.8 19.9 20.  20.1 20.2 20.3 20.4 20.5 20.6 20.7 20.8 20.9\n",
      " 21.  21.1 21.2 21.3 21.4 21.5 21.6 21.7 21.8 21.9 22.  22.1 22.2 22.3\n",
      " 22.4 22.5 22.6 22.7 22.8 22.9 23.  23.1 23.2 23.3 23.4 23.5 23.6 23.7\n",
      " 23.8 23.9 24.  24.1 24.2 24.3 24.4 24.5 24.6 24.7 24.8 24.9 25.  25.1\n",
      " 25.2 25.3 25.4 25.5 25.6 25.7 25.8 25.9 26.  26.1 26.2 26.3 26.4 26.5\n",
      " 26.6 26.7 26.8 26.9 27.  27.1 27.2 27.3 27.4 27.5 27.6 27.7 27.8 27.9\n",
      " 28.  28.1 28.2 28.3 28.4 28.5 28.6 28.7 28.8 28.9 29.  29.1 29.2 29.3\n",
      " 29.4 29.5 29.6 29.7 29.8 29.9 30.  30.1 30.2 30.3 30.4 30.5 30.6 30.7\n",
      " 30.8 30.9 31.  31.1 31.2 31.3 31.4 31.5 31.6 31.7 31.8 31.9 32.  32.1\n",
      " 32.2 32.3 32.4 32.5 32.6 32.7 32.8 32.9 33.  33.1 33.2 33.3 33.4 33.5\n",
      " 33.6 33.7 33.8 33.9 34.  34.1 34.2 34.3 34.4 34.5 34.6 34.7 34.8 34.9\n",
      " 35.  35.1 35.2 35.3 35.4 35.5 35.6 35.7 35.8 35.9 36.  36.1 36.2 36.3\n",
      " 36.4 36.5 36.6 36.7 36.8 36.9 37.  37.1 37.2 37.3 37.4 37.5 37.6 37.7\n",
      " 37.8 37.9 38.  38.1 38.2 38.3 38.4 38.5 38.6 38.7 38.8 38.9 39.  39.1\n",
      " 39.2 39.3 39.4 39.5 39.6 39.7 39.8 39.9 40.  40.1 40.2 40.3 40.4 40.5\n",
      " 40.6 40.7 40.8 40.9 41.  41.1 41.2 41.3 41.4 41.5 41.6 41.7 41.8 41.9\n",
      " 42.  42.1 42.2 42.3 42.4 42.5 42.6 42.7 42.8 42.9 43.  43.1 43.2 43.3\n",
      " 43.4 43.5 43.6 43.7 43.8 43.9 44.  44.1 44.2 44.3 44.4 44.5 44.6 44.7\n",
      " 44.8 44.9 45.  45.1 45.2 45.3 45.4 45.5 45.6 45.7 45.8 45.9 46.  46.1\n",
      " 46.2 46.3 46.4 46.5 46.6 46.7 46.8 46.9 47.  47.1 47.2 47.3 47.4 47.5\n",
      " 47.6 47.7 47.8 47.9 48.  48.1 48.2 48.3 48.4 48.5 48.6 48.7 48.8 48.9\n",
      " 49.  49.1 49.2 49.3 49.4 49.5 49.6 49.7 49.8 49.9 50.  50.1 50.2 50.3\n",
      " 50.4 50.5 50.6 50.7 50.8 50.9 51.  51.1 51.2 51.3 51.4 51.5 51.6 51.7\n",
      " 51.8 51.9 52.  52.1 52.2 52.3 52.4 52.5 52.6 52.7 52.8 52.9 53.  53.1\n",
      " 53.2 53.3 53.4 53.5 53.6 53.7 53.8 53.9 54.  54.1 54.2 54.3 54.4 54.5\n",
      " 54.6 54.7 54.8 54.9 55.  55.1 55.2 55.3 55.4 55.5 55.6 55.7 55.8 55.9\n",
      " 56.  56.1 56.2 56.3 56.4 56.5 56.6 56.7 56.8 56.9 57.  57.1 57.2 57.3\n",
      " 57.4 57.5 57.6 57.7 57.8 57.9 58.  58.1 58.2 58.3 58.4 58.5 58.6 58.7\n",
      " 58.8 58.9 59.  59.1 59.2 59.3 59.4 59.5 59.6 59.7 59.8 59.9 60.  60.1\n",
      " 60.2 60.3 60.4 60.5 60.6 60.7 60.8 60.9 61.  61.1 61.2 61.3 61.4 61.5\n",
      " 61.6 61.7 61.8 61.9 62.  62.1 62.2 62.3 62.4 62.5 62.6 62.7 62.8 62.9\n",
      " 63.  63.1 63.2 63.3 63.4 63.5 63.6 63.7 63.8 63.9 64.  64.1 64.2 64.3\n",
      " 64.4 64.5 64.6 64.7 64.8 64.9 65.  65.1 65.2 65.3 65.4 65.5 65.6 65.7\n",
      " 65.8 65.9 66.  66.1 66.2 66.3 66.4 66.5 66.6 66.7 66.8 66.9 67.  67.1\n",
      " 67.2 67.3 67.4 67.5 67.6 67.7 67.8 67.9 68.  68.1 68.2 68.3 68.4 68.5\n",
      " 68.6 68.7 68.8 68.9 69.  69.1 69.2 69.3 69.4 69.5 69.6 69.7 69.8 69.9\n",
      " 70.  70.1 70.2 70.3 70.4 70.5 70.6 70.7 70.8 70.9 71.  71.1 71.2 71.3\n",
      " 71.4 71.5 71.6 71.7 71.8 71.9 72.  72.1 72.2 72.3 72.4 72.5 72.6 72.7\n",
      " 72.8 72.9 73.  73.1 73.2 73.3 73.4 73.5 73.6 73.7 73.8 73.9 74.  74.1\n",
      " 74.2 74.3 74.4 74.5 74.6 74.7 74.8 74.9 75.  75.1 75.2 75.3 75.4 75.5\n",
      " 75.6 75.7 75.8 75.9 76.  76.1 76.2 76.3 76.4 76.5 76.6 76.7 76.8 76.9\n",
      " 77.  77.1 77.2 77.3 77.4 77.5 77.6 77.7 77.8 77.9 78.  78.1 78.2 78.3\n",
      " 78.4 78.5 78.6 78.7 78.8 78.9 79.  79.1 79.2 79.3 79.4 79.5 79.6 79.7\n",
      " 79.8 79.9 80.  80.1 80.2 80.3 80.4 80.5 80.6 80.7 80.8 80.9 81.  81.1\n",
      " 81.2 81.3 81.4 81.5 81.6 81.7 81.8 81.9 82.  82.1 82.2 82.3 82.4 82.5\n",
      " 82.6 82.7 82.8 82.9 83.  83.1 83.2 83.3 83.4 83.5 83.6 83.7 83.8 83.9\n",
      " 84.  84.1 84.2 84.3 84.4 84.5 84.6 84.7 84.8 84.9 85.  85.1 85.2 85.3\n",
      " 85.4 85.5 85.6 85.7 85.8 85.9 86.  86.1 86.2 86.3 86.4 86.5 86.6 86.7\n",
      " 86.8 86.9 87.  87.1 87.2 87.3 87.4 87.5 87.6 87.7 87.8 87.9 88.  88.1\n",
      " 88.2 88.3 88.4 88.5 88.6 88.7 88.8 88.9 89.  89.1 89.2 89.3 89.4 89.5\n",
      " 89.6 89.7 89.8 89.9 90.  90.1 90.2 90.3 90.4 90.5 90.6 90.7 90.8 90.9\n",
      " 91.  91.1 91.2 91.3 91.4 91.5 91.6 91.7 91.8 91.9 92.  92.1 92.2 92.3\n",
      " 92.4 92.5 92.6 92.7 92.8 92.9 93.  93.1 93.2 93.3 93.4 93.5 93.6 93.7\n",
      " 93.8 93.9 94.  94.1 94.2 94.3 94.4 94.5 94.6 94.7 94.8 94.9 95.  95.1\n",
      " 95.2 95.3 95.4 95.5 95.6 95.7 95.8 95.9 96.  96.1 96.2 96.3 96.4 96.5\n",
      " 96.6 96.7 96.8 96.9 97.  97.1 97.2 97.3 97.4 97.5 97.6 97.7 97.8 97.9\n",
      " 98.  98.1 98.2 98.3 98.4 98.5 98.6 98.7 98.8 98.9 99.  99.1 99.2 99.3\n",
      " 99.4 99.5 99.6 99.7 99.8 99.9]\n"
     ]
    }
   ],
   "source": [
    "import matplotlib.pyplot as plt ## matplotlib is a module for plotting in python\n",
    "import numpy as np\n",
    "\n",
    "alpha = 1\n",
    "mu = 0.1 ## What units are these constants?\n",
    "\n",
    "t = np.arange(0,100,.1) ## In array you have the indipendent variable t\n",
    "print(t)"
   ]
  },
  {
   "cell_type": "code",
   "execution_count": 2,
   "metadata": {},
   "outputs": [
    {
     "data": {
      "image/png": "[encoded data removed]",
      "text/plain": [
       "<Figure size 432x288 with 1 Axes>"
      ]
     },
     "metadata": {
      "needs_background": "light"
     },
     "output_type": "display_data"
    }
   ],
   "source": [
    "X = (alpha/mu)*(1.-np.exp(-mu*t))  ## In this array you are going to put your values of X computed with the solution you found.\n",
    "plt.plot(t,X)\n",
    "\n",
    "const = alpha/mu \n",
    "plt.plot([0.,t[-1]], [const, const], '--')\n",
    "\n",
    "plt.ylim(0.,20.)\n",
    "plt.xlim(0.,t[-1])\n",
    "plt.xlabel('t', fontsize = 14)\n",
    "plt.ylabel('X', fontsize = 14)\n",
    "plt.title('Analytical solution')\n",
    "plt.show()"
   ]
  },
  {
   "cell_type": "markdown",
   "metadata": {},
   "source": [
    "- Discuss the *steady state*."
   ]
  },
  {
   "cell_type": "markdown",
   "metadata": {},
   "source": [
    "#### Step 2. Numerical solution\n",
    "Numerical solvers solve differential equations in an iterative fashion, starting from the initial conditions. Numerically, the derivative can be approximated using *finite differences*.\n",
    "\n",
    "Let $\\Delta t$ be a very small step, then\n",
    "$$\n",
    "\\mathbf{f}(\\mathbf{x}(t)) \\simeq \\cfrac{\\mathbf{x}(t+\\Delta t) - \\mathbf{x}(t)}{\\Delta t}\n",
    "$$\n",
    "so $\\mathbf{x}(t+\\Delta t) \\simeq \\mathbf{x}(t) + \\mathbf{f}(\\mathbf{x}(t)) \\Delta t$, at the foundations of the Euler method \n",
    "$$\n",
    "\\mathbf{x}_{i+1} = \\mathbf{x}_i + \\mathbf{f}(\\mathbf{x}_i)\\Delta t.\n",
    "$$\n",
    "\n",
    "Let's try to develop this simple integration method."
   ]
  },
  {
   "cell_type": "code",
   "execution_count": 3,
   "metadata": {},
   "outputs": [],
   "source": [
    "#function that takes a(alpha), b (mu) and z (x) as inputs\n",
    "def f(a,b,z):\n",
    "    return a - b*z"
   ]
  },
  {
   "cell_type": "code",
   "execution_count": 4,
   "metadata": {},
   "outputs": [],
   "source": [
    "delta = 0.01 # definition of Delta t\n",
    "t_max = 100  # Maximal length of integration - final time\n",
    "\n",
    "x_num = []   # We will build here the numerical solution\n",
    "t_num = []   # and here the time steps\n",
    "\n",
    "# Set the initial conditions:\n",
    "time = 0.\n",
    "t_num.append(0.)\n",
    "x_num.append(0.)\n",
    "\n",
    "while (time < t_max):\n",
    "    time += delta\n",
    "    t_num.append(time)\n",
    "    x_prev = x_num[-1]\n",
    "    x_next = x_prev + f(alpha, mu, x_prev)*delta\n",
    "    x_num.append(x_next)"
   ]
  },
  {
   "cell_type": "code",
   "execution_count": 5,
   "metadata": {},
   "outputs": [
    {
     "data": {
      "image/png": "[encoded data removed]",
      "text/plain": [
       "<Figure size 432x288 with 1 Axes>"
      ]
     },
     "metadata": {
      "needs_background": "light"
     },
     "output_type": "display_data"
    }
   ],
   "source": [
    "plt.plot(t_num,x_num, label='numerical')\n",
    "\n",
    "plt.plot([0.,t[-1]], [const, const], '--')\n",
    "\n",
    "plt.plot(t,X, 'gray', label='analytical') \n",
    "\n",
    "\n",
    "plt.ylim(0.,20.)\n",
    "plt.xlim(0.,t[-1])\n",
    "plt.xlabel('t', fontsize = 14)\n",
    "plt.ylabel('X', fontsize = 14)\n",
    "plt.title('Numerical solution')\n",
    "plt.legend()\n",
    "plt.show()"
   ]
  },
  {
   "cell_type": "markdown",
   "metadata": {},
   "source": [
    "---\n",
    "- What could be the problems of this method?\n",
    "- Try to change the $\\Delta t$\n",
    "\n",
    "You should use already developed packages for numerical integrations. For instance:\n",
    "[Scipy integrate](https://docs.scipy.org/doc/scipy/reference/reference/integrate.html)\n",
    "```\n",
    "scipy.integrate.solve_ivp(fun, t_span, y0, method='RK45', t_eval=None, dense_output=False, events=None, vectorized=False, args=None, **options)\n",
    "```"
   ]
  },
  {
   "cell_type": "code",
   "execution_count": 6,
   "metadata": {},
   "outputs": [],
   "source": [
    "from scipy.integrate import solve_ivp\n",
    "\n",
    "def func(t, x, a, b): return a - b*x\n",
    "\n",
    "sol = solve_ivp(func, [0, 100], [0.], args=[alpha, mu])\n",
    "#sol = solve_ivp(func, [0, 100], [0.], args=[alpha, mu], t_eval=t)\n",
    "#sol = solve_ivp(func, [0, 100], [0.], args=[alpha, mu], method='LSODA')\n"
   ]
  },
  {
   "cell_type": "code",
   "execution_count": 7,
   "metadata": {},
   "outputs": [
    {
     "data": {
      "text/plain": [
       "  message: 'The solver successfully reached the end of the integration interval.'\n",
       "     nfev: 80\n",
       "     njev: 0\n",
       "      nlu: 0\n",
       "      sol: None\n",
       "   status: 0\n",
       "  success: True\n",
       "        t: array([0.00000000e+00, 1.00000000e-04, 1.10000000e-03, 1.11000000e-02,\n",
       "       1.11100000e-01, 1.11110000e+00, 7.06326432e+00, 1.50691026e+01,\n",
       "       2.47504347e+01, 3.63496035e+01, 5.04103419e+01, 6.79110578e+01,\n",
       "       9.05408881e+01, 1.00000000e+02])\n",
       " t_events: None\n",
       "        y: array([[0.00000000e+00, 9.99995000e-05, 1.09993950e-03, 1.10938418e-02,\n",
       "        1.10485119e-01, 1.05159689e+00, 5.06530968e+00, 7.78344652e+00,\n",
       "        9.15735283e+00, 9.73483805e+00, 9.93395370e+00, 9.98745806e+00,\n",
       "        9.99764115e+00, 9.99908324e+00]])\n",
       " y_events: None"
      ]
     },
     "execution_count": 7,
     "metadata": {},
     "output_type": "execute_result"
    }
   ],
   "source": [
    "sol"
   ]
  },
  {
   "cell_type": "code",
   "execution_count": 8,
   "metadata": {},
   "outputs": [
    {
     "data": {
      "text/plain": [
       "array([0.00000000e+00, 1.00000000e-04, 1.10000000e-03, 1.11000000e-02,\n",
       "       1.11100000e-01, 1.11110000e+00, 7.06326432e+00, 1.50691026e+01,\n",
       "       2.47504347e+01, 3.63496035e+01, 5.04103419e+01, 6.79110578e+01,\n",
       "       9.05408881e+01, 1.00000000e+02])"
      ]
     },
     "execution_count": 8,
     "metadata": {},
     "output_type": "execute_result"
    }
   ],
   "source": [
    "sol.t"
   ]
  },
  {
   "cell_type": "code",
   "execution_count": 9,
   "metadata": {},
   "outputs": [
    {
     "data": {
      "text/plain": [
       "array([[0.00000000e+00, 9.99995000e-05, 1.09993950e-03, 1.10938418e-02,\n",
       "        1.10485119e-01, 1.05159689e+00, 5.06530968e+00, 7.78344652e+00,\n",
       "        9.15735283e+00, 9.73483805e+00, 9.93395370e+00, 9.98745806e+00,\n",
       "        9.99764115e+00, 9.99908324e+00]])"
      ]
     },
     "execution_count": 9,
     "metadata": {},
     "output_type": "execute_result"
    }
   ],
   "source": [
    "sol.y"
   ]
  },
  {
   "cell_type": "code",
   "execution_count": 10,
   "metadata": {},
   "outputs": [
    {
     "data": {
      "image/png": "[encoded data removed]",
      "text/plain": [
       "<Figure size 432x288 with 1 Axes>"
      ]
     },
     "metadata": {
      "needs_background": "light"
     },
     "output_type": "display_data"
    }
   ],
   "source": [
    "plt.plot(sol.t, sol.y[0], label='solve_ivp')\n",
    "\n",
    "plt.plot([0.,t[-1]], [const, const], '--')\n",
    "\n",
    "plt.plot(t,X, 'gray', label='analytical') \n",
    "\n",
    "\n",
    "plt.ylim(0.,12.)\n",
    "plt.xlim(0.,t[-1])\n",
    "plt.xlabel('t', fontsize = 14)\n",
    "plt.ylabel('X', fontsize = 14)\n",
    "plt.title('Numerical solution from solve_ivp')\n",
    "plt.legend()\n",
    "plt.show()"
   ]
  },
  {
   "cell_type": "markdown",
   "metadata": {},
   "source": [
    "### Advanced: Enzyme reaction and Michaelis-Menten kinetics\n",
    "Now let's give a look at the system of ODEs you would write to study Enzyme Reaction kinetics, and the Michaelis-Menten approximation.\n",
    "\n",
    "Let's first define the set of ODEs for\n",
    "$$\n",
    "S + E \\rightleftharpoons C \\rightarrow P + E \n",
    "$$\n",
    "with $k_1$ adn $k_2$ the rate constants (forward and backward respectively) for the first step, $k_3$ for the second. Concentrations are indicated with the lower case letters $s,e,c,p$."
   ]
  },
  {
   "cell_type": "code",
   "execution_count": 11,
   "metadata": {},
   "outputs": [],
   "source": [
    "def enzymatic_reaction(t, y, k1, k2, k3):\n",
    "    s, e, c, p = y\n",
    "    return [-k1*s*e + k2*c, -k1*s*e + k2*c + k3*c, k1*s*e - k2*c - k3*c, k3*c]"
   ]
  },
  {
   "cell_type": "code",
   "execution_count": 12,
   "metadata": {},
   "outputs": [],
   "source": [
    "k1 = 1.\n",
    "k2 = 0.1\n",
    "k3 = 1.\n",
    "\n",
    "e_tot = 1.\n",
    "s0 = 1.\n",
    "\n",
    "sol = solve_ivp(enzymatic_reaction, [0, 10], [s0, e_tot, 0., 0.], args=[k1, k2, k3], method='LSODA')\n"
   ]
  },
  {
   "cell_type": "code",
   "execution_count": 13,
   "metadata": {},
   "outputs": [
    {
     "data": {
      "text/plain": [
       "  message: 'The solver successfully reached the end of the integration interval.'\n",
       "     nfev: 91\n",
       "     njev: 0\n",
       "      nlu: 0\n",
       "      sol: None\n",
       "   status: 0\n",
       "  success: True\n",
       "        t: array([0.00000000e+00, 3.16227764e-05, 6.32455529e-05, 7.58119521e-03,\n",
       "       1.50991449e-02, 2.26170945e-02, 5.14247330e-02, 8.02323714e-02,\n",
       "       1.09040010e-01, 1.37847648e-01, 2.04578433e-01, 2.71309217e-01,\n",
       "       3.38040002e-01, 4.04770786e-01, 4.71501571e-01, 5.86355478e-01,\n",
       "       7.01209385e-01, 8.16063292e-01, 9.30917199e-01, 1.12623360e+00,\n",
       "       1.32154999e+00, 1.51686639e+00, 1.71218278e+00, 1.99425837e+00,\n",
       "       2.27633396e+00, 2.55840954e+00, 2.84048513e+00, 3.16278679e+00,\n",
       "       3.48508846e+00, 3.80739013e+00, 4.12969179e+00, 4.45791912e+00,\n",
       "       4.78614645e+00, 5.11437378e+00, 5.44260111e+00, 5.86651289e+00,\n",
       "       6.29042468e+00, 6.71433646e+00, 7.13824824e+00, 7.56216002e+00,\n",
       "       7.98607180e+00, 8.40998358e+00, 8.88494438e+00, 9.35990519e+00,\n",
       "       9.83486599e+00, 1.00000000e+01])\n",
       " t_events: None\n",
       "        y: array([[1.00000000e+00, 9.99968379e-01, 9.99936761e-01, 9.92478356e-01,\n",
       "        9.85135502e-01, 9.77905170e-01, 9.51193187e-01, 9.25937742e-01,\n",
       "        9.02006712e-01, 8.79281782e-01, 8.30712058e-01, 7.86987764e-01,\n",
       "        7.47278786e-01, 7.10926730e-01, 6.77414667e-01, 6.25242404e-01,\n",
       "        5.78708492e-01, 5.36682321e-01, 4.98365462e-01, 4.40162479e-01,\n",
       "        3.89014292e-01, 3.43678689e-01, 3.03303961e-01, 2.52532672e-01,\n",
       "        2.09438030e-01, 1.73001977e-01, 1.42351104e-01, 1.13415648e-01,\n",
       "        8.99851481e-02, 7.11483837e-02, 5.60994879e-02, 4.39455899e-02,\n",
       "        3.43712505e-02, 2.68561237e-02, 2.09729749e-02, 1.52390326e-02,\n",
       "        1.10726089e-02, 8.05025420e-03, 5.85917813e-03, 4.26880775e-03,\n",
       "        3.11309378e-03, 2.27255949e-03, 1.59698775e-03, 1.12438677e-03,\n",
       "        7.93761724e-04, 7.03066882e-04],\n",
       "       [1.00000000e+00, 9.99968380e-01, 9.99936764e-01, 9.92506763e-01,\n",
       "        9.85247531e-01, 9.78154769e-01, 9.52448832e-01, 9.28907502e-01,\n",
       "        9.07339854e-01, 8.87573275e-01, 8.47874239e-01, 8.15419133e-01,\n",
       "        7.88940954e-01, 7.67416130e-01, 7.50025587e-01, 7.27925362e-01,\n",
       "        7.13538785e-01, 7.04958530e-01, 7.00806403e-01, 7.01159756e-01,\n",
       "        7.07809135e-01, 7.18539986e-01, 7.31869373e-01, 7.53712904e-01,\n",
       "        7.76826038e-01, 8.00043879e-01, 8.22589906e-01, 8.46870609e-01,\n",
       "        8.69139386e-01, 8.89180651e-01, 9.06922227e-01, 9.22665720e-01,\n",
       "        9.36189517e-01, 9.47674247e-01, 9.57328422e-01, 9.67440138e-01,\n",
       "        9.75319651e-01, 9.81400677e-01, 9.86054798e-01, 9.89586795e-01,\n",
       "        9.92249529e-01, 9.94247483e-01, 9.95895024e-01, 9.97077449e-01,\n",
       "        9.97923078e-01, 9.98155809e-01],\n",
       "       [0.00000000e+00, 3.16196767e-05, 6.32362541e-05, 7.49323664e-03,\n",
       "        1.47524690e-02, 2.18452309e-02, 4.75511676e-02, 7.10924983e-02,\n",
       "        9.26601458e-02, 1.12426725e-01, 1.52125761e-01, 1.84580867e-01,\n",
       "        2.11059046e-01, 2.32583870e-01, 2.49974413e-01, 2.72074638e-01,\n",
       "        2.86461215e-01, 2.95041470e-01, 2.99193597e-01, 2.98840244e-01,\n",
       "        2.92190865e-01, 2.81460014e-01, 2.68130627e-01, 2.46287096e-01,\n",
       "        2.23173962e-01, 1.99956121e-01, 1.77410094e-01, 1.53129391e-01,\n",
       "        1.30860614e-01, 1.10819349e-01, 9.30777730e-02, 7.73342798e-02,\n",
       "        6.38104830e-02, 5.23257526e-02, 4.26715777e-02, 3.25598618e-02,\n",
       "        2.46803489e-02, 1.85993227e-02, 1.39452024e-02, 1.04132046e-02,\n",
       "        7.75047051e-03, 5.75251742e-03, 4.10497622e-03, 2.92255087e-03,\n",
       "        2.07692239e-03, 1.84419135e-03],\n",
       "       [0.00000000e+00, 9.99901960e-10, 2.99960788e-09, 2.84076354e-05,\n",
       "        1.12028814e-04, 2.49598817e-04, 1.25564509e-03, 2.96976012e-03,\n",
       "        5.33314232e-03, 8.29149300e-03, 1.71621809e-02, 2.84313682e-02,\n",
       "        4.16621688e-02, 5.64893995e-02, 7.26109196e-02, 1.02682958e-01,\n",
       "        1.34830293e-01, 1.68276209e-01, 2.02440941e-01, 2.60997276e-01,\n",
       "        3.18794843e-01, 3.74861297e-01, 4.28565412e-01, 5.01180231e-01,\n",
       "        5.67388008e-01, 6.27041902e-01, 6.80238802e-01, 7.33454962e-01,\n",
       "        7.79154238e-01, 8.18032267e-01, 8.50822739e-01, 8.78720130e-01,\n",
       "        9.01818267e-01, 9.20818124e-01, 9.36355447e-01, 9.52201106e-01,\n",
       "        9.64247042e-01, 9.73350423e-01, 9.80195619e-01, 9.85317988e-01,\n",
       "        9.89136436e-01, 9.91974923e-01, 9.94298036e-01, 9.95953062e-01,\n",
       "        9.97129316e-01, 9.97452742e-01]])\n",
       " y_events: None"
      ]
     },
     "execution_count": 13,
     "metadata": {},
     "output_type": "execute_result"
    }
   ],
   "source": [
    "sol"
   ]
  },
  {
   "cell_type": "code",
   "execution_count": 14,
   "metadata": {},
   "outputs": [
    {
     "data": {
      "image/png": "[encoded data removed]",
      "text/plain": [
       "<Figure size 432x288 with 1 Axes>"
      ]
     },
     "metadata": {
      "needs_background": "light"
     },
     "output_type": "display_data"
    }
   ],
   "source": [
    "plt.plot(sol.t, sol.y[0], label='s')\n",
    "plt.plot(sol.t, sol.y[1], label='e')\n",
    "plt.plot(sol.t, sol.y[2], label='c')\n",
    "plt.plot(sol.t, sol.y[3], label='p')\n",
    "\n",
    "#plt.ylim(0.,12.)\n",
    "plt.xlim(0.,sol.t[-1])\n",
    "plt.xlabel('t [h]', fontsize = 14)\n",
    "plt.ylabel('concentrations [mM]', fontsize = 14)\n",
    "plt.title('Enzyme reaction kinetics')\n",
    "plt.legend()\n",
    "plt.show()"
   ]
  },
  {
   "cell_type": "markdown",
   "metadata": {},
   "source": [
    "Then we can check whether the hypotheses of the Michaelis-Menten (MM) approximation are satisfied in this case or not, and compute $p$ starting from the MM formula:\n",
    "$$\n",
    "\\frac{dp}{dt} = k_3 \\frac{e_\\text{tot}s}{\\frac{k_2}{k_1}+s} \\,.\n",
    "$$"
   ]
  },
  {
   "cell_type": "code",
   "execution_count": 15,
   "metadata": {},
   "outputs": [],
   "source": [
    "def mm_product(k1, k2, k3, e_tot, s):\n",
    "    return k3*e_tot*s/(k2/k1+s)"
   ]
  },
  {
   "cell_type": "code",
   "execution_count": 16,
   "metadata": {},
   "outputs": [],
   "source": [
    "p_mm = []   # We will build here the numerical solution for the mm\n",
    "\n",
    "# Set the initial conditions:\n",
    "p_mm.append(0.)\n",
    "t_prev = 0.\n",
    "for t, substrate in zip(sol.t, sol.y[0]):\n",
    "    p_prev = p_mm[-1]\n",
    "    delta = t - t_prev\n",
    "    p_next = p_prev + mm_product(k1, k2, k3, e_tot, substrate)*delta\n",
    "    t_prev = t\n",
    "    if delta >0:\n",
    "        #if p_next > 1:\n",
    "        #    p_next = 1\n",
    "        p_mm.append(p_next)\n",
    "        "
   ]
  },
  {
   "cell_type": "code",
   "execution_count": 17,
   "metadata": {},
   "outputs": [
    {
     "data": {
      "image/png": "[encoded data removed]",
      "text/plain": [
       "<Figure size 432x288 with 1 Axes>"
      ]
     },
     "metadata": {
      "needs_background": "light"
     },
     "output_type": "display_data"
    }
   ],
   "source": [
    "plt.plot(sol.t, sol.y[0], label='s')\n",
    "plt.plot(sol.t, sol.y[1], label='e')\n",
    "plt.plot(sol.t, sol.y[2], label='c')\n",
    "plt.plot(sol.t, sol.y[3], label='p')\n",
    "plt.plot(sol.t[10:], (sol.y[0][10:]*sol.y[1][10:]/sol.y[2][10:]), ':', label='es/c')\n",
    "\n",
    "plt.plot(sol.t, p_mm,'b--',label='MM')\n",
    "\n",
    "plt.ylim(0.1,10)\n",
    "plt.semilogy()\n",
    "plt.xlim(0.,sol.t[-1])\n",
    "plt.xlabel('t [h]', fontsize = 14)\n",
    "plt.ylabel('concentrations [mM]', fontsize = 14)\n",
    "plt.title('Enzyme reaction kinetics')\n",
    "plt.legend()\n",
    "plt.show()"
   ]
  },
  {
   "cell_type": "code",
   "execution_count": null,
   "metadata": {},
   "outputs": [],
   "source": []
  }
 ],
 "metadata": {
  "kernelspec": {
   "display_name": "Python 3 (ipykernel)",
   "language": "python",
   "name": "python3"
  },
  "language_info": {
   "codemirror_mode": {
    "name": "ipython",
    "version": 3
   },
   "file_extension": ".py",
   "mimetype": "text/x-python",
   "name": "python",
   "nbconvert_exporter": "python",
   "pygments_lexer": "ipython3",
   "version": "3.9.7"
  }
 },
 "nbformat": 4,
 "nbformat_minor": 4
}
