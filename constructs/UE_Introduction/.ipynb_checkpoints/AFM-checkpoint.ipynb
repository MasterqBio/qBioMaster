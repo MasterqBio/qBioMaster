{
 "cells": [
  {
   "cell_type": "markdown",
   "metadata": {},
   "source": [
    "# Atomic Force Microscopy (AFM) construct\n",
    "\n",
    "## aims\n",
    "\n",
    "In this tutorial you will \n",
    "\n",
    "    1. Watch tutorials on Atomic Force Microscopy\n",
    "    2. Answer questionnaire\n",
    "    3. Further reading: real life applications\n",
    "    \n",
    "## Preliminary reading\n",
    "\n",
    "Make sure you are comfortable with the following concepts by following the links@\n",
    "\n",
    "- [AFM tutorial](https://www.youtube.com/watch?v=s6KqJS1GZNE) (Park systems)\n",
    "- [Hooke’s law](https://en.wikipedia.org/wiki/Hooke%27s_law) (1.1 and 5.4) modelling the AFM cantilever\n",
    "- [Harmonic oscillators](https://en.wikipedia.org/wiki/Harmonic_oscillator) (1, 2, 3, 5, 5.1, 5.2) describing the AFM cantilever dynamics\n",
    "   \n",
    "    \n",
    "\n",
    "## credits\n",
    "\n",
    "Luca Costa, July 2021\n",
    "\n",
    "---"
   ]
  },
  {
   "cell_type": "markdown",
   "metadata": {},
   "source": [
    "### 1- AFM resources\n",
    "\n",
    "In this part, you should read a basic tutorial on AFM. There are standard sources that you can follow for this:\n",
    "\n",
    "- [Introduction to AFM](https://www.youtube.com/watch?v=nR68jlwj5EQ)"
   ]
  },
  {
   "cell_type": "markdown",
   "metadata": {},
   "source": [
    "### 2- Questionnaire\n",
    "\n",
    "Plase answer the following questions\n",
    "- What are the main elements of an atomic force microscope?\n",
    "- What are the main imaging modes of an AFM? Describe their operational scheme.\n",
    "- What is the most employed method to measure the deflection of an AFM cantilever? How does it work?\n",
    "- What is a mechanical resonance? Why the AFM cantilever is excited at resonance in dynamic AFM? What is the phase of the harmonic oscillator?"
   ]
  },
  {
   "cell_type": "markdown",
   "metadata": {},
   "source": [
    "### 5- Further reading\n",
    "\n",
    "Now that you know everything about AFM, you can read on the following resources that will help you understand when and how AFM is used in real life!\n",
    "\n",
    "- [More than imaging: force-distance curves](https://www.youtube.com/watch?v=SQog2K9L2Uw&amp;list=PL3592A61EEF52B29A&amp;index=10) (Purdue University AFM classes)\n",
    "- [Calibrations](https://www.youtube.com/watch?v=YRcq6sFa3C0&amp;list=PL3592A61EEF52B29A&amp;index=12) (Purdue\n",
    "\tUniversity AFM classes)\n",
    "- [Dynamic mode in liquid (for biological applications)](https://www.youtube.com/watch?v=w-SxSbUGuZs) (Purdue University AFM classes)\n",
    "- [Gwyddion: the open source software to treat AFM images](http://gwyddion.net/)\n",
    "- [Walking Myosin by High-Speed AFM](https://www.researchgate.net/profile/Toshio-Ando/publication/47384785_Video_imaging_of_walking_myosin_V_by_high-speed_atomic_force_microscopy/links/09e41505b59f15c2c0000000/Video-imaging-of-walking-myosin-V-by-high-speed-atomic-force-microscopy.pdf?_sg%5B0%5D=XAlytc9ByrtJi2MbzFtiC3cu5lBrnf96UpIxXIkCv8C-r1r1RLfbryRK4yHUP04t7Dh0IGAcYPzZmBgTWeo-qw.vyxfdLpaOMjHneXbkSPBRbCBjaoKevEBkoaclhe5iUEETleu9HM7ANHg7l9wdjNjEMioQSEYaREqed5_Hy9JfQ&amp;_sg%5B1%5D=BcWCpz-RmTqAWll9Ct27vZxYVja5JQnl21KDoCjoD7NZeg1IBdtJ-ZKU5gDr5TZI-iMJDqV-SLvHMaX2V7P9WShVfIYvLTLGv07yskl6hQDN.vyxfdLpaOMjHneXbkSPBRbCBjaoKevEBkoaclhe5iUEETleu9HM7ANHg7l9wdjNjEMioQSEYaREqed5_Hy9JfQ&amp;_sg%5B2%5D=A7cfyuF4-6WtrsTSDteBIQ6vD7Wf8Ol8hS2pxVNJ-MWa3DimI-0WrfG6AhWQLDdLy518HsSEQtpt4Ik.yDcOSq8P_xKx-jzFRhdf9a9m-xotWJdBzbN989rh1XJgLLBlS0-0NzjLyQjg5eCrFFAtufr9cu07TuSwFNPe8A&amp;_iepl=)\n",
    "- [AFM applications in molecular and cell biology](https://cantileversensors.unibas.ch/ChGerber/Publications_files/Dufrene17_nnano.2017.45-auproof.pdf)\n",
    "- [Nanoindentation\tby AFM (video)](https://www.youtube.com/watch?v=MZb8C0f7Kdg)\n"
   ]
  }
 ],
 "metadata": {
  "kernelspec": {
   "display_name": "Python 3",
   "language": "python",
   "name": "python3"
  },
  "language_info": {
   "codemirror_mode": {
    "name": "ipython",
    "version": 3
   },
   "file_extension": ".py",
   "mimetype": "text/x-python",
   "name": "python",
   "nbconvert_exporter": "python",
   "pygments_lexer": "ipython3",
   "version": "3.7.6"
  }
 },
 "nbformat": 4,
 "nbformat_minor": 4
}
