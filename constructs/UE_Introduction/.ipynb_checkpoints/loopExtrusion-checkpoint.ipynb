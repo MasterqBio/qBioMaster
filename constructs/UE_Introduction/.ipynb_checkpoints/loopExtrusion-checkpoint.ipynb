{
 "cells": [
  {
   "cell_type": "markdown",
   "metadata": {},
   "source": [
    "# Loop Extrusion construct\n",
    "\n",
    "## aims\n",
    "\n",
    "In this tutorial you will \n",
    "\n",
    "1. Read tutorials on the mechanism of loop extrusion\n",
    "2. Answer questionnaire\n",
    "3. Further reading\n",
    "\n",
    "## credits\n",
    "\n",
    "Marcelo Nollmann, August 2021\n",
    "\n",
    "---"
   ]
  },
  {
   "cell_type": "markdown",
   "metadata": {},
   "source": [
    "### 1- Loop extrusion resources\n",
    "\n",
    "In this part, you should read a basic tutorial on xx. There are standard sources that you can follow for this:\n",
    "\n",
    "- [Loop extrusion model simulation from the Mirny lab](https://www.youtube.com/watch?v=8FW6gOx5lPI). You will see simulations explaining the basic principles of loop extrusion.\n",
    "- Read the article [Real-time imaging of DNA loop extrusion by condensin](https://www-ncbi-nlm-nih-gov.insb.bib.cnrs.fr/pmc/articles/PMC6329450/pdf/emss-81112.pdf) where you will learn how TIRF fluorescence and microfluidics can be used to demonstrate loop extrusion by yeast condensin. \n",
    " "
   ]
  },
  {
   "cell_type": "markdown",
   "metadata": {},
   "source": [
    "### 2- Questionnaire\n",
    "\n",
    "Plase answer the following questions\n",
    "\n",
    "- Describe the basic principle of the assay used in the study of Ganji et al.\n",
    "- How does the assay show loop extrusion?\n",
    "- What evidence is used to show that loop extrusion requires ATP hydrolysis?\n",
    "- Does loop extrusion require ATP binding or release?\n",
    "- Is loop extrusion symmetric or asymmetric? Why?\n"
   ]
  },
  {
   "cell_type": "markdown",
   "metadata": {},
   "source": [
    "### 3- Further reading\n",
    "\n",
    "Read these papers using polymer modeling:\n",
    "\n",
    "- [The interplay between asymmetric and symmetric DNA loop extrusion](https://elifesciences.org/articles/63528#downloads)\n",
    "- [Chromatin organization by an interplay of loop extrusion and compartmental segregation](https://www.pnas.org/content/pnas/115/29/E6697.full.pdf)\n",
    "- Lectures on SMCs and CTCF by JM Peters [Part I](https://www.youtube.com/watch?v=ckFS9Wr32Ic) and [Part II](https://www.youtube.com/watch?v=8fEG_L8c_MQ)\n"
   ]
  }
 ],
 "metadata": {
  "kernelspec": {
   "display_name": "Python 3 (ipykernel)",
   "language": "python",
   "name": "python3"
  },
  "language_info": {
   "codemirror_mode": {
    "name": "ipython",
    "version": 3
   },
   "file_extension": ".py",
   "mimetype": "text/x-python",
   "name": "python",
   "nbconvert_exporter": "python",
   "pygments_lexer": "ipython3",
   "version": "3.9.18"
  }
 },
 "nbformat": 4,
 "nbformat_minor": 4
}
