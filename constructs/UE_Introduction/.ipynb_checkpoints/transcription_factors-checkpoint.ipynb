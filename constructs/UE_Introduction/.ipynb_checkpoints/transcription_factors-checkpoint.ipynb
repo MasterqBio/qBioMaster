{
 "cells": [
  {
   "cell_type": "markdown",
   "metadata": {},
   "source": [
    "# Transcription Factors construct\n",
    "\n",
    "## aims\n",
    "\n",
    "In this tutorial you will \n",
    "\n",
    "1. Read tutorials on Transcription Factors\n",
    "2. Answer questionnaire\n",
    "3. Further reading\n",
    "\n",
    "## credits\n",
    "\n",
    "Marcelo Nollmann, June 2021\n",
    "\n",
    "---"
   ]
  },
  {
   "cell_type": "markdown",
   "metadata": {},
   "source": [
    "### 1- Transcription Factors\n",
    "\n",
    "In this part, you should read a basic tutorial on xx. There are standard sources that you can follow for this:\n",
    "\n",
    "- Listen to the lecture [Regulation of transcription by transcription factors](https://www.youtube.com/watch?v=ugMJrhQSfm8) by R. Tjian (40'). You will learn about:\n",
    "    - Searching for factors that regulate transcription\n",
    "    - General transcription factors\n",
    "    - Enhancers\n",
    "- Listen to the lecture of Mike Levine on [enhancers](https://www.youtube.com/watch?v=Cfgze3BItDY) (10'). You will learn about:\n",
    "    - Drosophila embryo development\n",
    "    - Visualization of gene expression\n",
    "    - What are enhancers and how they can be use to regulate specific gene expression patterns during development\n",
    "    - Role of spatial patterning in enhancer function\n",
    "- Wrap it all up by watching this short video by the [Khan academy](https://www.youtube.com/watch?v=ypH-hDKpCY0)\n",
    "\n"
   ]
  },
  {
   "cell_type": "markdown",
   "metadata": {},
   "source": [
    "### 2- Questionnaire\n",
    "\n",
    "Plase answer the following questions\n",
    "\n",
    "- Describe in simple words what a TF does\n",
    "- Provide examples of TFs.\n",
    "- How do TFs bind specific DNA sequences? Give examples.\n",
    "- What is TBP? What are the functions of TBP?\n",
    "- What is an enhancer? What are their roles?\n",
    "- How can an enhancer be activated in a specific region of an embryo and not in another?\n"
   ]
  },
  {
   "cell_type": "markdown",
   "metadata": {},
   "source": [
    "### 3- Further reading\n",
    "\n",
    "- [Live imaging of mRNA synthesis in Drosophila](https://www.ncbi.nlm.nih.gov/pmc/articles/PMC5909709/pdf/nihms933542.pdf)\n",
    "- [Dynamic interplay between enhancer-promoter topology and gene activity](https://www.ncbi.nlm.nih.gov/pmc/articles/PMC6119122/pdf/nihms974884.pdf)\n",
    "- See lecture by M Levine on how enhancers achieve transcriptional precision [part II](https://www.youtube.com/watch?v=FLa3oRPxNLM) and [part III](https://www.youtube.com/watch?v=PkfLKJ-AJsc)\n",
    " \n"
   ]
  }
 ],
 "metadata": {
  "kernelspec": {
   "display_name": "Python 3 (ipykernel)",
   "language": "python",
   "name": "python3"
  },
  "language_info": {
   "codemirror_mode": {
    "name": "ipython",
    "version": 3
   },
   "file_extension": ".py",
   "mimetype": "text/x-python",
   "name": "python",
   "nbconvert_exporter": "python",
   "pygments_lexer": "ipython3",
   "version": "3.9.18"
  }
 },
 "nbformat": 4,
 "nbformat_minor": 4
}
