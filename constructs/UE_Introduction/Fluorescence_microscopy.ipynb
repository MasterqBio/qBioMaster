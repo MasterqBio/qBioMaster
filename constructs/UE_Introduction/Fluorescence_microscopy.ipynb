{
 "cells": [
  {
   "cell_type": "markdown",
   "metadata": {},
   "source": [
    "# Fluorescence microscopy construct\n",
    "\n",
    "## aims\n",
    "\n",
    "In this tutorial you will \n",
    "1. Read tutorials on fluorescence microscopy, introducing:\n",
    "    - the principles of fluorescence\n",
    "    - filters and dichroics\n",
    "    - fluorescence labeling methods\n",
    "    - widefield fluorescence microscopy\n",
    "2. Prepare the discussion that will take place during the course\n",
    "3. Further reading\n",
    "\n",
    "## credits\n",
    "\n",
    "Marcelo Nollmann, Emmanuel Margeat, September 2021\n"
   ]
  },
  {
   "cell_type": "markdown",
   "metadata": {},
   "source": [
    "### 0 - Preliminary reading\n",
    "\n",
    "Make sure you are confortable with the following concepts, otherwise follow the link.\n",
    "\n",
    "- [The microscope optical train](https://www.microscopyu.com/microscopy-basics/components)\n",
    "- [Conjugate planes in optical microscopy](https://www.microscopyu.com/microscopy-basics/conjugate-planes-in-optical-microscopy)\n",
    "- [Field of view](https://www.microscopyu.com/microscopy-basics/field-of-view)\n",
    "- [Numerical aperture and resolution](http://zeiss-campus.magnet.fsu.edu/articles/basics/resolution.html)\n"
   ]
  },
  {
   "cell_type": "markdown",
   "metadata": {},
   "source": [
    "### 1- Fluorescence and Widefield microscopy resources\n",
    "\n",
    "In this first lecture( 33'), you will learn the basics of fluorescence microscopy.\n",
    "- [Microscopy: Introduction to Fluorescence Microscopy (Nico Stuurman)](https://www.youtube.com/watch?v=AhzhOzgYoqw)\n",
    "\n",
    "This second lecture (56') will go deeper into the phenomenon of fluorescence, the jablonski diagram, fluorescence polarization, labeling, etc..\n",
    "- [Introduction to fluorescence (Dave Jameson)](https://www.youtube.com/watch?v=5PZbIQjqzlw&list=PLrTP91eqdDiIzVtpn5gsUKqVciNUhm-CP)\n",
    "\n",
    "Additional reading:\n",
    "- [Widefield versus confocal microscopy (Leica)](https://www.leica-microsystems.com/science-lab/introduction-to-widefield-microscopy/)\n"
   ]
  },
  {
   "cell_type": "markdown",
   "metadata": {},
   "source": [
    "### 2- During the course\n",
    "\n",
    "During the 1 hour course, we will discuss / adress the following points : \n",
    "- Draw and describe a Jablosky diagram\n",
    "- Why is the fluorescence emission wavelength always larger than the excitation wavelength? What is the Stokes shift?\n",
    "- Notions about the excited state lifetime and how to measure it\n",
    "- Pro and cons of fluorescent proteins and dyes.\n",
    "- What is the maximum resolution attainable in a widefield microscope? Calculate in terms of NA and wavelength.\n",
    "- Draw the optical path of a fluorescence microscope. Descibe the components\n",
    "- Explain the concept of quantum yield in fluorescence. How is it determined, and what does it indicate about a fluorophore's efficiency?\n",
    "- Describe the phenomenon of photobleaching in fluorescence. What causes it, and how can it be minimized during imaging experiments?\n",
    "- What are the key considerations when selecting fluorophores for a fluorescence experiment?\n",
    "- Describe the process of immunofluorescence and its role in visualizing specific proteins or molecules within cells or tissues.\n",
    "\n",
    "**Advanced**\n",
    "- Discuss the role of quenching in fluorescence. What are the different types of quenching mechanisms, and how can they be exploited for specific applications?\n",
    "- "
   ]
  },
  {
   "cell_type": "markdown",
   "metadata": {},
   "source": [
    "### 3- More resources\n",
    "\n",
    "Now that you know everything about widelfield microscopy, you can read on the following resources that will help you understand when and how widelfield microscopy is used in real life!\n",
    "\n",
    "If you did not do the `Advanced` modules, please choose one of these resouces and read it in detail.\n",
    "\n",
    "- [Activity: build a foldscope!](https://explorebiology.org/activities/summary/foldscope)\n",
    "- [Motility in a Test Tube](https://explorebiology.org/summary/cell-biology/motility-in-a-test-tube)\n",
    "- [GFP expression](https://explorebiology.org/summary/cell-biology/lighting-up-biology---expression-of-the-green-fluorescence-protein)\n",
    "\n",
    "Advanced content:\n",
    "- [All you ever wanted to know about GFP (by Roger Tsien)](https://www.youtube.com/watch?v=QoRTv2qZXbY)\n",
    "- [Uses of organic probes for fluorescence microscopy](https://www.youtube.com/watch?v=gSGq8gOLXwY)\n",
    "- [Cameras and detectors by Nico Stuurman](https://www.youtube.com/watch?v=8WpCov8iYCU)\n",
    "\n",
    "Jupyter Labs:\n",
    "\n",
    "- [Image formation tutorial](Microscope_image_formation.ipynb):\n",
    "    - Simulating images of beads\n",
    "    - Simulating a theoretical point spread function (PSF)\n",
    "    - Convoluting the object with the microscope PSF\n"
   ]
  }
 ],
 "metadata": {
  "kernelspec": {
   "display_name": "Python 3 (ipykernel)",
   "language": "python",
   "name": "python3"
  },
  "language_info": {
   "codemirror_mode": {
    "name": "ipython",
    "version": 3
   },
   "file_extension": ".py",
   "mimetype": "text/x-python",
   "name": "python",
   "nbconvert_exporter": "python",
   "pygments_lexer": "ipython3",
   "version": "3.9.18"
  }
 },
 "nbformat": 4,
 "nbformat_minor": 4
}
