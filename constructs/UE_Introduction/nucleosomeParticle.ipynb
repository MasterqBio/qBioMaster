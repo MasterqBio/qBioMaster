{
 "cells": [
  {
   "cell_type": "markdown",
   "metadata": {},
   "source": [
    "# Nucleosomes construct\n",
    "\n",
    "## aims\n",
    "\n",
    "In this tutorial you will \n",
    "\n",
    "1. Read tutorials on Nucleosomes\n",
    "2. Answer questionnaire\n",
    "3. Further reading\n",
    "\n",
    "\n",
    "## credits\n",
    "\n",
    "Marcelo Nollmann, August 2021\n",
    "\n",
    "---"
   ]
  },
  {
   "cell_type": "markdown",
   "metadata": {},
   "source": [
    "### 1- Nucleosome resources\n",
    "\n",
    "In this part, you should read a basic tutorial on Nucleosomes. There are standard sources that you can follow for this:\n",
    "\n",
    "- View the [nucleosome assembly tutorial from 0 to 6 min](https://www.youtube.com/watch?v=FYwxJnGq_8c&list=TLPQMjUwODIwMjGl0BH1rMasxQ&index=2) describing:\n",
    "    - first level of chromatin structure\n",
    "    - composition of nucleosomes: histone proteins and linker DNA\n",
    "    - early, canonical models of chromatin structure: solenoid, zig-zag and DNA loops.\n",
    "- View the [iBiology tutorial by Karolin Luger on nucleosome structure](https://www.youtube.com/watch?v=sIfCFwtGrWg). This will teach you \n",
    "    - early findings on chromatin structure with electron microscopy.\n",
    "    - first x-ray crystallography structures of nucleosomes\n",
    "    - how nucleosome samples could be improved to yield high resolution structures?\n"
   ]
  },
  {
   "cell_type": "markdown",
   "metadata": {},
   "source": [
    "### 2- Questionnaire\n",
    "\n",
    "Plase answer the following questions\n",
    "\n",
    "- How many histones are needed to form a nucleosome?\n",
    "- What is the typical size, in nanometers, of a nucleosome particle?\n",
    "- Is DNA wrapped in the outside or runs through the inside of a nucleosome? \n",
    "- Why is higher resolution structural information important to understand function?\n",
    "- Are early 'textbook' models of chromatin structure still relevant?\n",
    "- how many DNA basepairs are included, in average, in a nucleosome particle?\n"
   ]
  },
  {
   "cell_type": "markdown",
   "metadata": {},
   "source": [
    "### 3- Further reading\n",
    "\n",
    "- View the [nucleosome assembly tutorial from 6 min to the end](https://www.youtube.com/watch?v=FYwxJnGq_8c&list=TLPQMjUwODIwMjGl0BH1rMasxQ&index=2)\n",
    "- [A Brief Review of Nucleosome Structure by Cutter et al.](https://www.ncbi.nlm.nih.gov/pmc/articles/PMC4598263/pdf/nihms-690807.pdf)\n",
    "\n"
   ]
  }
 ],
 "metadata": {
  "kernelspec": {
   "display_name": "Python 3 (ipykernel)",
   "language": "python",
   "name": "python3"
  },
  "language_info": {
   "codemirror_mode": {
    "name": "ipython",
    "version": 3
   },
   "file_extension": ".py",
   "mimetype": "text/x-python",
   "name": "python",
   "nbconvert_exporter": "python",
   "pygments_lexer": "ipython3",
   "version": "3.9.18"
  }
 },
 "nbformat": 4,
 "nbformat_minor": 4
}
