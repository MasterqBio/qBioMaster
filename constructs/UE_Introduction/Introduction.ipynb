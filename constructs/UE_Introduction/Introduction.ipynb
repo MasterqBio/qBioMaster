{
 "cells": [
  {
   "cell_type": "markdown",
   "id": "49a6b61c",
   "metadata": {},
   "source": [
    "# Introductory construct\n",
    "\n",
    "## aims\n",
    "\n",
    "Our 'lectures' are often accompanied by tutorials, in the form of jupyter notebooks, like this one. \n",
    "\n",
    "In the days preceeding the class, you can check the material given. This includes a list of references, sometimesfollowed by questionnaires and further readings/advanced materials for those interested. \n",
    "\n",
    "\n",
    "1. Read tutorials on that topic;\n",
    "2. Answer questionnaire;\n",
    "3. Look at the `Advanced` modules (if any)\n",
    "4. Keep in mind the *Further readings* that are given \n",
    "\n",
    "\n",
    "**Example.** For instance, if the topic of the day is on the jupyter notebook, the construct could be organised as it follows: "
   ]
  },
  {
   "cell_type": "markdown",
   "id": "50a7723e",
   "metadata": {},
   "source": [
    "### 1- resources\n",
    "- Revise python programming from the Bootcamp (ASFL material).\n",
    "- [Jupyter labs](../../docs/resourcesJupyter.md)\n",
    "- [GitHub](../../docs/Github_introduction.md)\n",
    "- [Markdown](../../docs/introductionMarkdown.md)"
   ]
  },
  {
   "cell_type": "markdown",
   "id": "c0e5faa6",
   "metadata": {},
   "source": [
    "### 2- questionnaire\n",
    "\n",
    "Plase answer the following questions\n",
    "- In python, how do you assign the string `'acgcccua'` to a variable `X`?\n",
    "- In which cases you should prefer a `while` cycle over a `for`? \n",
    "- What does it mean *'version control'*?\n",
    "- How can you include the link to https://github.com/qbiomaster/qBioMaster-introduction/ in md?"
   ]
  },
  {
   "cell_type": "markdown",
   "id": "b180f6ef",
   "metadata": {},
   "source": [
    "### 3- further readings\n",
    "If you are interested to know more, [here](https://docs.github.com/en/get-started/quickstart/hello-world)  you can find the official GitHub documentation."
   ]
  },
  {
   "cell_type": "markdown",
   "id": "9487062e",
   "metadata": {},
   "source": [
    "\n",
    "\n",
    "\n",
    "\n",
    "\n",
    "## credits\n",
    "\n",
    "Luca Ciandrini (luca.ciandrini@umontpellier.fr), 2022\n",
    "\n",
    "---"
   ]
  }
 ],
 "metadata": {
  "kernelspec": {
   "display_name": "Python 3 (ipykernel)",
   "language": "python",
   "name": "python3"
  },
  "language_info": {
   "codemirror_mode": {
    "name": "ipython",
    "version": 3
   },
   "file_extension": ".py",
   "mimetype": "text/x-python",
   "name": "python",
   "nbconvert_exporter": "python",
   "pygments_lexer": "ipython3",
   "version": "3.9.7"
  }
 },
 "nbformat": 4,
 "nbformat_minor": 5
}
