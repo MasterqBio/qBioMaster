{
 "cells": [
  {
   "cell_type": "markdown",
   "metadata": {},
   "source": [
    "# Modelling toolbox: ODE\n",
    "\n",
    "*21st September 2023* - **Credits:** Luca Ciandrini (luca.ciandrini@umontpellier.fr)\n",
    "\n",
    "---\n",
    "## aims\n",
    "- Understand, formulate and analyse mathematical models based on ODEs, with basic analytical tools and numerically.\n",
    "- Grasp the difference between deterministic and stochastic processes and being able to describe the notion of noise.\n",
    "\n",
    "Today we are going to learn how to build up a simple model (for gene expression) with Ordinary Differential Equations (ODE). The tools that we will see can be exploited in many different contexts.\n",
    "\n",
    "Sketch a model based on ODE, simple solving techniques. Solve your system of equations with Python.\n"
   ]
  },
  {
   "cell_type": "markdown",
   "metadata": {},
   "source": [
    "### 1-resources\n",
    "- 3blue1brown on Differential equations, Chapter 1: https://www.3blue1brown.com/lessons/differential-equations \n",
    "- Strogatz, S. H. (2018). *Nonlinear Dynamics and Chaos: With Applications to Physics, Biology, Chemistry, and Engineering.* United States: CRC Press. The first chapter is available [here](https://www.google.fr/books/edition/Nonlinear_Dynamics_and_Chaos/1kpnDwAAQBAJ?hl=en&gbpv=1&printsec=frontcover)."
   ]
  },
  {
   "cell_type": "markdown",
   "metadata": {},
   "source": [
    "## Tutorial\n",
    "A **differential equation** is an equation that relates one or more unknown functions $\\mathbf{x}$ and their derivatives.\n",
    "\n",
    "An **ODE** is a differential equation containing one (or more) functions of **one** independent variable (for instance time $t$) and the derivatives of those functions.\n",
    "\n",
    "For instance, Newton's second law of motion is an example of ordinary differential equation. It gives the relationship between the (second) derivatative of the displacement $x$ (a function of the intendependent variable $t$) and the force $F$ (which is itself a function of the position). In one dimension:\n",
    "$$\n",
    "{\\displaystyle m{\\frac {\\mathrm {d} ^{2}x(t)}{\\mathrm {d} t^{2}}}=F(x(t))\\,.}\n",
    "$$\n",
    "\n",
    "\n",
    "More in general, we can write an Ordinary Differential Equations as:\n",
    "$$\n",
    "\\boxed{\\frac{d}{dt} \\mathbf{x}(t) = \\mathbf{f}(\\mathbf{x}(t)) \\,}\n",
    "$$\n",
    "and we can guess the solution with a few simple examples. \n",
    "\n",
    "\n",
    "### Discussion/questionnaire\n",
    "After reading \n",
    "**[Wil]** D.J. Wilkinson, *Stochastic modelling for quantitative description of heterogeneous biological systems*, Nature Reviews (2009) [doi:10.1038/nrg2509](doi:10.1038/nrg2509):\n",
    "- Discuss deteministic *vs* stochastic model;\n",
    "- Name a few approaches and explain them;\n",
    "\n",
    "---\n",
    "\n",
    "If we have time today we will also tackle a problem that cannot be studied with deterministic approaches because of its intrinsic stochastic behaviour: the partition problem. We look at the *fluctuations* in the partition of $N$ molecules from a mother in the two daughter cells, and we related that result to experimental outcomes.\n",
    "\n",
    "For next time you should also read \n",
    "- Theriot, J., Kondev, J., Garcia, H., Phillips, R. (2012). *Physical Biology of the Cell*. United Kingdom: CRC Press. Pages 43-48, available [here](https://www.google.fr/books/edition/Physical_Biology_of_the_Cell/t2SzDwAAQBAJ?hl=en&gbpv=1&printsec=frontcover)\n",
    "\n",
    "\n"
   ]
  },
  {
   "cell_type": "markdown",
   "metadata": {},
   "source": [
    "### Deterministic modelling\n",
    "\n",
    "#### Step 1. Guess an analytical solution\n",
    "\n",
    "Let's start with the example from [Wil]:\n",
    "$$\n",
    "\\frac{d X}{dt} = \\alpha - \\mu X \\,.\n",
    "$$\n",
    "\n",
    "- How can you solve it analytically?\n"
   ]
  },
  {
   "cell_type": "markdown",
   "metadata": {},
   "source": [
    "...\n",
    "<p>&nbsp;</p>\n",
    "<p>&nbsp;</p>\n",
    "<p>&nbsp;</p>\n",
    "\n",
    "You should find \n",
    "$$\n",
    "X(t) = \\frac{\\alpha}{\\mu}(1-e^{-\\mu t}) \\,.\n",
    "$$\n",
    "- What can you say about that?\n"
   ]
  },
  {
   "cell_type": "markdown",
   "metadata": {},
   "source": [
    "...\n",
    "<p>&nbsp;</p>\n",
    "<p>&nbsp;</p>\n",
    "<p>&nbsp;</p>\n",
    "Let's plot it now."
   ]
  },
  {
   "cell_type": "code",
   "execution_count": 1,
   "metadata": {},
   "outputs": [
    {
     "name": "stdout",
     "output_type": "stream",
     "text": [
      "[ 0.   0.1  0.2  0.3  0.4  0.5  0.6  0.7  0.8  0.9  1.   1.1  1.2  1.3\n",
      "  1.4  1.5  1.6  1.7  1.8  1.9  2.   2.1  2.2  2.3  2.4  2.5  2.6  2.7\n",
      "  2.8  2.9  3.   3.1  3.2  3.3  3.4  3.5  3.6  3.7  3.8  3.9  4.   4.1\n",
      "  4.2  4.3  4.4  4.5  4.6  4.7  4.8  4.9  5.   5.1  5.2  5.3  5.4  5.5\n",
      "  5.6  5.7  5.8  5.9  6.   6.1  6.2  6.3  6.4  6.5  6.6  6.7  6.8  6.9\n",
      "  7.   7.1  7.2  7.3  7.4  7.5  7.6  7.7  7.8  7.9  8.   8.1  8.2  8.3\n",
      "  8.4  8.5  8.6  8.7  8.8  8.9  9.   9.1  9.2  9.3  9.4  9.5  9.6  9.7\n",
      "  9.8  9.9 10.  10.1 10.2 10.3 10.4 10.5 10.6 10.7 10.8 10.9 11.  11.1\n",
      " 11.2 11.3 11.4 11.5 11.6 11.7 11.8 11.9 12.  12.1 12.2 12.3 12.4 12.5\n",
      " 12.6 12.7 12.8 12.9 13.  13.1 13.2 13.3 13.4 13.5 13.6 13.7 13.8 13.9\n",
      " 14.  14.1 14.2 14.3 14.4 14.5 14.6 14.7 14.8 14.9 15.  15.1 15.2 15.3\n",
      " 15.4 15.5 15.6 15.7 15.8 15.9 16.  16.1 16.2 16.3 16.4 16.5 16.6 16.7\n",
      " 16.8 16.9 17.  17.1 17.2 17.3 17.4 17.5 17.6 17.7 17.8 17.9 18.  18.1\n",
      " 18.2 18.3 18.4 18.5 18.6 18.7 18.8 18.9 19.  19.1 19.2 19.3 19.4 19.5\n",
      " 19.6 19.7 19.8 19.9 20.  20.1 20.2 20.3 20.4 20.5 20.6 20.7 20.8 20.9\n",
      " 21.  21.1 21.2 21.3 21.4 21.5 21.6 21.7 21.8 21.9 22.  22.1 22.2 22.3\n",
      " 22.4 22.5 22.6 22.7 22.8 22.9 23.  23.1 23.2 23.3 23.4 23.5 23.6 23.7\n",
      " 23.8 23.9 24.  24.1 24.2 24.3 24.4 24.5 24.6 24.7 24.8 24.9 25.  25.1\n",
      " 25.2 25.3 25.4 25.5 25.6 25.7 25.8 25.9 26.  26.1 26.2 26.3 26.4 26.5\n",
      " 26.6 26.7 26.8 26.9 27.  27.1 27.2 27.3 27.4 27.5 27.6 27.7 27.8 27.9\n",
      " 28.  28.1 28.2 28.3 28.4 28.5 28.6 28.7 28.8 28.9 29.  29.1 29.2 29.3\n",
      " 29.4 29.5 29.6 29.7 29.8 29.9 30.  30.1 30.2 30.3 30.4 30.5 30.6 30.7\n",
      " 30.8 30.9 31.  31.1 31.2 31.3 31.4 31.5 31.6 31.7 31.8 31.9 32.  32.1\n",
      " 32.2 32.3 32.4 32.5 32.6 32.7 32.8 32.9 33.  33.1 33.2 33.3 33.4 33.5\n",
      " 33.6 33.7 33.8 33.9 34.  34.1 34.2 34.3 34.4 34.5 34.6 34.7 34.8 34.9\n",
      " 35.  35.1 35.2 35.3 35.4 35.5 35.6 35.7 35.8 35.9 36.  36.1 36.2 36.3\n",
      " 36.4 36.5 36.6 36.7 36.8 36.9 37.  37.1 37.2 37.3 37.4 37.5 37.6 37.7\n",
      " 37.8 37.9 38.  38.1 38.2 38.3 38.4 38.5 38.6 38.7 38.8 38.9 39.  39.1\n",
      " 39.2 39.3 39.4 39.5 39.6 39.7 39.8 39.9 40.  40.1 40.2 40.3 40.4 40.5\n",
      " 40.6 40.7 40.8 40.9 41.  41.1 41.2 41.3 41.4 41.5 41.6 41.7 41.8 41.9\n",
      " 42.  42.1 42.2 42.3 42.4 42.5 42.6 42.7 42.8 42.9 43.  43.1 43.2 43.3\n",
      " 43.4 43.5 43.6 43.7 43.8 43.9 44.  44.1 44.2 44.3 44.4 44.5 44.6 44.7\n",
      " 44.8 44.9 45.  45.1 45.2 45.3 45.4 45.5 45.6 45.7 45.8 45.9 46.  46.1\n",
      " 46.2 46.3 46.4 46.5 46.6 46.7 46.8 46.9 47.  47.1 47.2 47.3 47.4 47.5\n",
      " 47.6 47.7 47.8 47.9 48.  48.1 48.2 48.3 48.4 48.5 48.6 48.7 48.8 48.9\n",
      " 49.  49.1 49.2 49.3 49.4 49.5 49.6 49.7 49.8 49.9 50.  50.1 50.2 50.3\n",
      " 50.4 50.5 50.6 50.7 50.8 50.9 51.  51.1 51.2 51.3 51.4 51.5 51.6 51.7\n",
      " 51.8 51.9 52.  52.1 52.2 52.3 52.4 52.5 52.6 52.7 52.8 52.9 53.  53.1\n",
      " 53.2 53.3 53.4 53.5 53.6 53.7 53.8 53.9 54.  54.1 54.2 54.3 54.4 54.5\n",
      " 54.6 54.7 54.8 54.9 55.  55.1 55.2 55.3 55.4 55.5 55.6 55.7 55.8 55.9\n",
      " 56.  56.1 56.2 56.3 56.4 56.5 56.6 56.7 56.8 56.9 57.  57.1 57.2 57.3\n",
      " 57.4 57.5 57.6 57.7 57.8 57.9 58.  58.1 58.2 58.3 58.4 58.5 58.6 58.7\n",
      " 58.8 58.9 59.  59.1 59.2 59.3 59.4 59.5 59.6 59.7 59.8 59.9 60.  60.1\n",
      " 60.2 60.3 60.4 60.5 60.6 60.7 60.8 60.9 61.  61.1 61.2 61.3 61.4 61.5\n",
      " 61.6 61.7 61.8 61.9 62.  62.1 62.2 62.3 62.4 62.5 62.6 62.7 62.8 62.9\n",
      " 63.  63.1 63.2 63.3 63.4 63.5 63.6 63.7 63.8 63.9 64.  64.1 64.2 64.3\n",
      " 64.4 64.5 64.6 64.7 64.8 64.9 65.  65.1 65.2 65.3 65.4 65.5 65.6 65.7\n",
      " 65.8 65.9 66.  66.1 66.2 66.3 66.4 66.5 66.6 66.7 66.8 66.9 67.  67.1\n",
      " 67.2 67.3 67.4 67.5 67.6 67.7 67.8 67.9 68.  68.1 68.2 68.3 68.4 68.5\n",
      " 68.6 68.7 68.8 68.9 69.  69.1 69.2 69.3 69.4 69.5 69.6 69.7 69.8 69.9\n",
      " 70.  70.1 70.2 70.3 70.4 70.5 70.6 70.7 70.8 70.9 71.  71.1 71.2 71.3\n",
      " 71.4 71.5 71.6 71.7 71.8 71.9 72.  72.1 72.2 72.3 72.4 72.5 72.6 72.7\n",
      " 72.8 72.9 73.  73.1 73.2 73.3 73.4 73.5 73.6 73.7 73.8 73.9 74.  74.1\n",
      " 74.2 74.3 74.4 74.5 74.6 74.7 74.8 74.9 75.  75.1 75.2 75.3 75.4 75.5\n",
      " 75.6 75.7 75.8 75.9 76.  76.1 76.2 76.3 76.4 76.5 76.6 76.7 76.8 76.9\n",
      " 77.  77.1 77.2 77.3 77.4 77.5 77.6 77.7 77.8 77.9 78.  78.1 78.2 78.3\n",
      " 78.4 78.5 78.6 78.7 78.8 78.9 79.  79.1 79.2 79.3 79.4 79.5 79.6 79.7\n",
      " 79.8 79.9 80.  80.1 80.2 80.3 80.4 80.5 80.6 80.7 80.8 80.9 81.  81.1\n",
      " 81.2 81.3 81.4 81.5 81.6 81.7 81.8 81.9 82.  82.1 82.2 82.3 82.4 82.5\n",
      " 82.6 82.7 82.8 82.9 83.  83.1 83.2 83.3 83.4 83.5 83.6 83.7 83.8 83.9\n",
      " 84.  84.1 84.2 84.3 84.4 84.5 84.6 84.7 84.8 84.9 85.  85.1 85.2 85.3\n",
      " 85.4 85.5 85.6 85.7 85.8 85.9 86.  86.1 86.2 86.3 86.4 86.5 86.6 86.7\n",
      " 86.8 86.9 87.  87.1 87.2 87.3 87.4 87.5 87.6 87.7 87.8 87.9 88.  88.1\n",
      " 88.2 88.3 88.4 88.5 88.6 88.7 88.8 88.9 89.  89.1 89.2 89.3 89.4 89.5\n",
      " 89.6 89.7 89.8 89.9 90.  90.1 90.2 90.3 90.4 90.5 90.6 90.7 90.8 90.9\n",
      " 91.  91.1 91.2 91.3 91.4 91.5 91.6 91.7 91.8 91.9 92.  92.1 92.2 92.3\n",
      " 92.4 92.5 92.6 92.7 92.8 92.9 93.  93.1 93.2 93.3 93.4 93.5 93.6 93.7\n",
      " 93.8 93.9 94.  94.1 94.2 94.3 94.4 94.5 94.6 94.7 94.8 94.9 95.  95.1\n",
      " 95.2 95.3 95.4 95.5 95.6 95.7 95.8 95.9 96.  96.1 96.2 96.3 96.4 96.5\n",
      " 96.6 96.7 96.8 96.9 97.  97.1 97.2 97.3 97.4 97.5 97.6 97.7 97.8 97.9\n",
      " 98.  98.1 98.2 98.3 98.4 98.5 98.6 98.7 98.8 98.9 99.  99.1 99.2 99.3\n",
      " 99.4 99.5 99.6 99.7 99.8 99.9]\n"
     ]
    }
   ],
   "source": [
    "import matplotlib.pyplot as plt ## matplotlib is a module for plotting in python\n",
    "import numpy as np\n",
    "\n",
    "alpha = 1\n",
    "mu = 0.1 ## What units are these constants?\n",
    "\n",
    "t = np.arange(0,100,.1) ## In array you have the indipendent variable t\n",
    "print(t)"
   ]
  },
  {
   "cell_type": "code",
   "execution_count": 2,
   "metadata": {},
   "outputs": [
    {
     "data": {
      "image/png": "[encoded data removed]",
      "text/plain": [
       "<Figure size 432x288 with 1 Axes>"
      ]
     },
     "metadata": {
      "needs_background": "light"
     },
     "output_type": "display_data"
    }
   ],
   "source": [
    "X = (alpha/mu)*(1.-np.exp(-mu*t))  ## In this array you are going to put your values of X computed with the solution you found.\n",
    "plt.plot(t,X)\n",
    "\n",
    "const = alpha/mu \n",
    "plt.plot([0.,t[-1]], [const, const], '--')\n",
    "\n",
    "plt.ylim(0.,20.)\n",
    "plt.xlim(0.,t[-1])\n",
    "plt.xlabel('t', fontsize = 14)\n",
    "plt.ylabel('X', fontsize = 14)\n",
    "plt.title('Analytical solution')\n",
    "plt.show()"
   ]
  },
  {
   "cell_type": "markdown",
   "metadata": {},
   "source": [
    "- Discuss the *steady state*."
   ]
  },
  {
   "cell_type": "markdown",
   "metadata": {},
   "source": [
    "#### Step 2. Numerical solution\n",
    "Numerical solvers solve differential equations in an iterative fashion, starting from the initial conditions. Numerically, the derivative can be approximated using *finite differences*.\n",
    "\n",
    "Let $\\Delta t$ be a very small step, then\n",
    "$$\n",
    "\\mathbf{f}(\\mathbf{x}(t)) \\simeq \\cfrac{\\mathbf{x}(t+\\Delta t) - \\mathbf{x}(t)}{\\Delta t}\n",
    "$$\n",
    "so $\\mathbf{x}(t+\\Delta t) \\simeq \\mathbf{x}(t) + \\mathbf{f}(\\mathbf{x}(t)) \\Delta t$, at the foundations of the Euler method \n",
    "$$\n",
    "\\mathbf{x}_{i+1} = \\mathbf{x}_i + \\mathbf{f}(\\mathbf{x}_i)\\Delta t.\n",
    "$$\n",
    "\n",
    "Let's try to develop this simple integration method."
   ]
  },
  {
   "cell_type": "code",
   "execution_count": 3,
   "metadata": {},
   "outputs": [],
   "source": [
    "#function that takes a(alpha), b (mu) and z (x) as inputs\n",
    "def f(a,b,z):\n",
    "    return a - b*z"
   ]
  },
  {
   "cell_type": "code",
   "execution_count": 6,
   "metadata": {},
   "outputs": [],
   "source": [
    "## Did together in class\n",
    "\n",
    "delta = 0.01 # definition of Delta t\n",
    "t_max = 100  # Maximal length of integration - final time\n",
    "\n",
    "x_num = []   # We will build here the numerical solution\n",
    "t_num = []   # and here the time steps\n",
    "\n",
    "# Set the initial conditions:\n",
    "time = 0.\n",
    "t_num.append(0.)\n",
    "x_num.append(0.)\n",
    "\n",
    "while time < t_max:\n",
    "    time += delta\n",
    "    x_old = x_num[-1]\n",
    "    x_new = x_old + f(alpha, mu, x_old)*delta\n",
    "    t_num.append(time)\n",
    "    x_num.append(x_new)"
   ]
  },
  {
   "cell_type": "code",
   "execution_count": 17,
   "metadata": {},
   "outputs": [],
   "source": [
    "delta = 0.01 # definition of Delta t\n",
    "t_max = 100  # Maximal length of integration - final time\n",
    "\n",
    "x_num = []   # We will build here the numerical solution\n",
    "t_num = []   # and here the time steps\n",
    "\n",
    "# Set the initial conditions:\n",
    "time = 0.\n",
    "t_num.append(0.)\n",
    "x_num.append(0.)\n",
    "\n",
    "while (time < t_max):\n",
    "    time += delta\n",
    "    t_num.append(time)\n",
    "    x_prev = x_num[-1]\n",
    "    x_next = x_prev + f(alpha, mu, x_prev)*delta\n",
    "    x_num.append(x_next)"
   ]
  },
  {
   "cell_type": "code",
   "execution_count": null,
   "metadata": {},
   "outputs": [],
   "source": []
  },
  {
   "cell_type": "code",
   "execution_count": 18,
   "metadata": {},
   "outputs": [
    {
     "data": {
      "image/png": "[encoded data removed]",
      "text/plain": [
       "<Figure size 432x288 with 1 Axes>"
      ]
     },
     "metadata": {
      "needs_background": "light"
     },
     "output_type": "display_data"
    }
   ],
   "source": [
    "plt.plot(t_num,x_num, label='numerical')\n",
    "\n",
    "plt.plot([0.,t[-1]], [const, const], '--')\n",
    "\n",
    "plt.plot(t,X, 'gray', label='analytical') \n",
    "\n",
    "\n",
    "plt.ylim(0.,20.)\n",
    "plt.xlim(0.,t[-1])\n",
    "plt.xlabel('t', fontsize = 14)\n",
    "plt.ylabel('X', fontsize = 14)\n",
    "plt.title('Numerical solution')\n",
    "plt.legend()\n",
    "plt.show()"
   ]
  },
  {
   "cell_type": "markdown",
   "metadata": {},
   "source": [
    "---\n",
    "- What could be the problems of this method?\n",
    "- Try to change the $\\Delta t$\n",
    "\n",
    "You should use already developed packages for numerical integrations. For instance:\n",
    "[Scipy integrate](https://docs.scipy.org/doc/scipy/reference/reference/integrate.html)\n",
    "```\n",
    "scipy.integrate.solve_ivp(fun, t_span, y0, method='RK45', t_eval=None, dense_output=False, events=None, vectorized=False, args=None, **options)\n",
    "```"
   ]
  },
  {
   "cell_type": "code",
   "execution_count": 21,
   "metadata": {},
   "outputs": [],
   "source": [
    "from scipy.integrate import solve_ivp\n",
    "\n",
    "def func(t, x, a, b): return a - b*x\n",
    "\n",
    "#sol = solve_ivp(func, [0, 100], [0.], args=[alpha, mu])\n",
    "sol = solve_ivp(func, [0, 100], [0.], args=[alpha, mu], t_eval=t)\n",
    "#sol = solve_ivp(func, [0, 100], [0.], args=[alpha, mu], method='LSODA')\n"
   ]
  },
  {
   "cell_type": "code",
   "execution_count": 22,
   "metadata": {},
   "outputs": [
    {
     "data": {
      "text/plain": [
       "  message: 'The solver successfully reached the end of the integration interval.'\n",
       "     nfev: 80\n",
       "     njev: 0\n",
       "      nlu: 0\n",
       "      sol: None\n",
       "   status: 0\n",
       "  success: True\n",
       "        t: array([ 0. ,  0.1,  0.2,  0.3,  0.4,  0.5,  0.6,  0.7,  0.8,  0.9,  1. ,\n",
       "        1.1,  1.2,  1.3,  1.4,  1.5,  1.6,  1.7,  1.8,  1.9,  2. ,  2.1,\n",
       "        2.2,  2.3,  2.4,  2.5,  2.6,  2.7,  2.8,  2.9,  3. ,  3.1,  3.2,\n",
       "        3.3,  3.4,  3.5,  3.6,  3.7,  3.8,  3.9,  4. ,  4.1,  4.2,  4.3,\n",
       "        4.4,  4.5,  4.6,  4.7,  4.8,  4.9,  5. ,  5.1,  5.2,  5.3,  5.4,\n",
       "        5.5,  5.6,  5.7,  5.8,  5.9,  6. ,  6.1,  6.2,  6.3,  6.4,  6.5,\n",
       "        6.6,  6.7,  6.8,  6.9,  7. ,  7.1,  7.2,  7.3,  7.4,  7.5,  7.6,\n",
       "        7.7,  7.8,  7.9,  8. ,  8.1,  8.2,  8.3,  8.4,  8.5,  8.6,  8.7,\n",
       "        8.8,  8.9,  9. ,  9.1,  9.2,  9.3,  9.4,  9.5,  9.6,  9.7,  9.8,\n",
       "        9.9, 10. , 10.1, 10.2, 10.3, 10.4, 10.5, 10.6, 10.7, 10.8, 10.9,\n",
       "       11. , 11.1, 11.2, 11.3, 11.4, 11.5, 11.6, 11.7, 11.8, 11.9, 12. ,\n",
       "       12.1, 12.2, 12.3, 12.4, 12.5, 12.6, 12.7, 12.8, 12.9, 13. , 13.1,\n",
       "       13.2, 13.3, 13.4, 13.5, 13.6, 13.7, 13.8, 13.9, 14. , 14.1, 14.2,\n",
       "       14.3, 14.4, 14.5, 14.6, 14.7, 14.8, 14.9, 15. , 15.1, 15.2, 15.3,\n",
       "       15.4, 15.5, 15.6, 15.7, 15.8, 15.9, 16. , 16.1, 16.2, 16.3, 16.4,\n",
       "       16.5, 16.6, 16.7, 16.8, 16.9, 17. , 17.1, 17.2, 17.3, 17.4, 17.5,\n",
       "       17.6, 17.7, 17.8, 17.9, 18. , 18.1, 18.2, 18.3, 18.4, 18.5, 18.6,\n",
       "       18.7, 18.8, 18.9, 19. , 19.1, 19.2, 19.3, 19.4, 19.5, 19.6, 19.7,\n",
       "       19.8, 19.9, 20. , 20.1, 20.2, 20.3, 20.4, 20.5, 20.6, 20.7, 20.8,\n",
       "       20.9, 21. , 21.1, 21.2, 21.3, 21.4, 21.5, 21.6, 21.7, 21.8, 21.9,\n",
       "       22. , 22.1, 22.2, 22.3, 22.4, 22.5, 22.6, 22.7, 22.8, 22.9, 23. ,\n",
       "       23.1, 23.2, 23.3, 23.4, 23.5, 23.6, 23.7, 23.8, 23.9, 24. , 24.1,\n",
       "       24.2, 24.3, 24.4, 24.5, 24.6, 24.7, 24.8, 24.9, 25. , 25.1, 25.2,\n",
       "       25.3, 25.4, 25.5, 25.6, 25.7, 25.8, 25.9, 26. , 26.1, 26.2, 26.3,\n",
       "       26.4, 26.5, 26.6, 26.7, 26.8, 26.9, 27. , 27.1, 27.2, 27.3, 27.4,\n",
       "       27.5, 27.6, 27.7, 27.8, 27.9, 28. , 28.1, 28.2, 28.3, 28.4, 28.5,\n",
       "       28.6, 28.7, 28.8, 28.9, 29. , 29.1, 29.2, 29.3, 29.4, 29.5, 29.6,\n",
       "       29.7, 29.8, 29.9, 30. , 30.1, 30.2, 30.3, 30.4, 30.5, 30.6, 30.7,\n",
       "       30.8, 30.9, 31. , 31.1, 31.2, 31.3, 31.4, 31.5, 31.6, 31.7, 31.8,\n",
       "       31.9, 32. , 32.1, 32.2, 32.3, 32.4, 32.5, 32.6, 32.7, 32.8, 32.9,\n",
       "       33. , 33.1, 33.2, 33.3, 33.4, 33.5, 33.6, 33.7, 33.8, 33.9, 34. ,\n",
       "       34.1, 34.2, 34.3, 34.4, 34.5, 34.6, 34.7, 34.8, 34.9, 35. , 35.1,\n",
       "       35.2, 35.3, 35.4, 35.5, 35.6, 35.7, 35.8, 35.9, 36. , 36.1, 36.2,\n",
       "       36.3, 36.4, 36.5, 36.6, 36.7, 36.8, 36.9, 37. , 37.1, 37.2, 37.3,\n",
       "       37.4, 37.5, 37.6, 37.7, 37.8, 37.9, 38. , 38.1, 38.2, 38.3, 38.4,\n",
       "       38.5, 38.6, 38.7, 38.8, 38.9, 39. , 39.1, 39.2, 39.3, 39.4, 39.5,\n",
       "       39.6, 39.7, 39.8, 39.9, 40. , 40.1, 40.2, 40.3, 40.4, 40.5, 40.6,\n",
       "       40.7, 40.8, 40.9, 41. , 41.1, 41.2, 41.3, 41.4, 41.5, 41.6, 41.7,\n",
       "       41.8, 41.9, 42. , 42.1, 42.2, 42.3, 42.4, 42.5, 42.6, 42.7, 42.8,\n",
       "       42.9, 43. , 43.1, 43.2, 43.3, 43.4, 43.5, 43.6, 43.7, 43.8, 43.9,\n",
       "       44. , 44.1, 44.2, 44.3, 44.4, 44.5, 44.6, 44.7, 44.8, 44.9, 45. ,\n",
       "       45.1, 45.2, 45.3, 45.4, 45.5, 45.6, 45.7, 45.8, 45.9, 46. , 46.1,\n",
       "       46.2, 46.3, 46.4, 46.5, 46.6, 46.7, 46.8, 46.9, 47. , 47.1, 47.2,\n",
       "       47.3, 47.4, 47.5, 47.6, 47.7, 47.8, 47.9, 48. , 48.1, 48.2, 48.3,\n",
       "       48.4, 48.5, 48.6, 48.7, 48.8, 48.9, 49. , 49.1, 49.2, 49.3, 49.4,\n",
       "       49.5, 49.6, 49.7, 49.8, 49.9, 50. , 50.1, 50.2, 50.3, 50.4, 50.5,\n",
       "       50.6, 50.7, 50.8, 50.9, 51. , 51.1, 51.2, 51.3, 51.4, 51.5, 51.6,\n",
       "       51.7, 51.8, 51.9, 52. , 52.1, 52.2, 52.3, 52.4, 52.5, 52.6, 52.7,\n",
       "       52.8, 52.9, 53. , 53.1, 53.2, 53.3, 53.4, 53.5, 53.6, 53.7, 53.8,\n",
       "       53.9, 54. , 54.1, 54.2, 54.3, 54.4, 54.5, 54.6, 54.7, 54.8, 54.9,\n",
       "       55. , 55.1, 55.2, 55.3, 55.4, 55.5, 55.6, 55.7, 55.8, 55.9, 56. ,\n",
       "       56.1, 56.2, 56.3, 56.4, 56.5, 56.6, 56.7, 56.8, 56.9, 57. , 57.1,\n",
       "       57.2, 57.3, 57.4, 57.5, 57.6, 57.7, 57.8, 57.9, 58. , 58.1, 58.2,\n",
       "       58.3, 58.4, 58.5, 58.6, 58.7, 58.8, 58.9, 59. , 59.1, 59.2, 59.3,\n",
       "       59.4, 59.5, 59.6, 59.7, 59.8, 59.9, 60. , 60.1, 60.2, 60.3, 60.4,\n",
       "       60.5, 60.6, 60.7, 60.8, 60.9, 61. , 61.1, 61.2, 61.3, 61.4, 61.5,\n",
       "       61.6, 61.7, 61.8, 61.9, 62. , 62.1, 62.2, 62.3, 62.4, 62.5, 62.6,\n",
       "       62.7, 62.8, 62.9, 63. , 63.1, 63.2, 63.3, 63.4, 63.5, 63.6, 63.7,\n",
       "       63.8, 63.9, 64. , 64.1, 64.2, 64.3, 64.4, 64.5, 64.6, 64.7, 64.8,\n",
       "       64.9, 65. , 65.1, 65.2, 65.3, 65.4, 65.5, 65.6, 65.7, 65.8, 65.9,\n",
       "       66. , 66.1, 66.2, 66.3, 66.4, 66.5, 66.6, 66.7, 66.8, 66.9, 67. ,\n",
       "       67.1, 67.2, 67.3, 67.4, 67.5, 67.6, 67.7, 67.8, 67.9, 68. , 68.1,\n",
       "       68.2, 68.3, 68.4, 68.5, 68.6, 68.7, 68.8, 68.9, 69. , 69.1, 69.2,\n",
       "       69.3, 69.4, 69.5, 69.6, 69.7, 69.8, 69.9, 70. , 70.1, 70.2, 70.3,\n",
       "       70.4, 70.5, 70.6, 70.7, 70.8, 70.9, 71. , 71.1, 71.2, 71.3, 71.4,\n",
       "       71.5, 71.6, 71.7, 71.8, 71.9, 72. , 72.1, 72.2, 72.3, 72.4, 72.5,\n",
       "       72.6, 72.7, 72.8, 72.9, 73. , 73.1, 73.2, 73.3, 73.4, 73.5, 73.6,\n",
       "       73.7, 73.8, 73.9, 74. , 74.1, 74.2, 74.3, 74.4, 74.5, 74.6, 74.7,\n",
       "       74.8, 74.9, 75. , 75.1, 75.2, 75.3, 75.4, 75.5, 75.6, 75.7, 75.8,\n",
       "       75.9, 76. , 76.1, 76.2, 76.3, 76.4, 76.5, 76.6, 76.7, 76.8, 76.9,\n",
       "       77. , 77.1, 77.2, 77.3, 77.4, 77.5, 77.6, 77.7, 77.8, 77.9, 78. ,\n",
       "       78.1, 78.2, 78.3, 78.4, 78.5, 78.6, 78.7, 78.8, 78.9, 79. , 79.1,\n",
       "       79.2, 79.3, 79.4, 79.5, 79.6, 79.7, 79.8, 79.9, 80. , 80.1, 80.2,\n",
       "       80.3, 80.4, 80.5, 80.6, 80.7, 80.8, 80.9, 81. , 81.1, 81.2, 81.3,\n",
       "       81.4, 81.5, 81.6, 81.7, 81.8, 81.9, 82. , 82.1, 82.2, 82.3, 82.4,\n",
       "       82.5, 82.6, 82.7, 82.8, 82.9, 83. , 83.1, 83.2, 83.3, 83.4, 83.5,\n",
       "       83.6, 83.7, 83.8, 83.9, 84. , 84.1, 84.2, 84.3, 84.4, 84.5, 84.6,\n",
       "       84.7, 84.8, 84.9, 85. , 85.1, 85.2, 85.3, 85.4, 85.5, 85.6, 85.7,\n",
       "       85.8, 85.9, 86. , 86.1, 86.2, 86.3, 86.4, 86.5, 86.6, 86.7, 86.8,\n",
       "       86.9, 87. , 87.1, 87.2, 87.3, 87.4, 87.5, 87.6, 87.7, 87.8, 87.9,\n",
       "       88. , 88.1, 88.2, 88.3, 88.4, 88.5, 88.6, 88.7, 88.8, 88.9, 89. ,\n",
       "       89.1, 89.2, 89.3, 89.4, 89.5, 89.6, 89.7, 89.8, 89.9, 90. , 90.1,\n",
       "       90.2, 90.3, 90.4, 90.5, 90.6, 90.7, 90.8, 90.9, 91. , 91.1, 91.2,\n",
       "       91.3, 91.4, 91.5, 91.6, 91.7, 91.8, 91.9, 92. , 92.1, 92.2, 92.3,\n",
       "       92.4, 92.5, 92.6, 92.7, 92.8, 92.9, 93. , 93.1, 93.2, 93.3, 93.4,\n",
       "       93.5, 93.6, 93.7, 93.8, 93.9, 94. , 94.1, 94.2, 94.3, 94.4, 94.5,\n",
       "       94.6, 94.7, 94.8, 94.9, 95. , 95.1, 95.2, 95.3, 95.4, 95.5, 95.6,\n",
       "       95.7, 95.8, 95.9, 96. , 96.1, 96.2, 96.3, 96.4, 96.5, 96.6, 96.7,\n",
       "       96.8, 96.9, 97. , 97.1, 97.2, 97.3, 97.4, 97.5, 97.6, 97.7, 97.8,\n",
       "       97.9, 98. , 98.1, 98.2, 98.3, 98.4, 98.5, 98.6, 98.7, 98.8, 98.9,\n",
       "       99. , 99.1, 99.2, 99.3, 99.4, 99.5, 99.6, 99.7, 99.8, 99.9])\n",
       " t_events: None\n",
       "        y: array([[0.        , 0.09950166, 0.19801327, 0.29554468, 0.39210564,\n",
       "        0.48770579, 0.5823547 , 0.67606183, 0.76883655, 0.86068815,\n",
       "        0.95162582, 1.04165864, 1.1307975 , 1.21905378, 1.30643573,\n",
       "        1.39295152, 1.47860928, 1.56341707, 1.64738291, 1.73051475,\n",
       "        1.8128205 , 1.89430802, 1.9749851 , 2.0548595 , 2.1339389 ,\n",
       "        2.21223095, 2.28974324, 2.36648329, 2.44245859, 2.51767657,\n",
       "        2.5921446 , 2.66587   , 2.73886004, 2.81112194, 2.88266285,\n",
       "        2.95348988, 3.0236101 , 3.09303049, 3.16175801, 3.22979956,\n",
       "        3.29716196, 3.36385203, 3.42987648, 3.495242  , 3.55995522,\n",
       "        3.62402271, 3.68745101, 3.75024657, 3.81241581, 3.87396509,\n",
       "        3.93490073, 3.99522898, 4.05495604, 4.11408806, 4.17263114,\n",
       "        4.23059132, 4.28797459, 4.34478688, 4.40103409, 4.45672204,\n",
       "        4.5118565 , 4.56644321, 4.62048782, 4.67399597, 4.7269732 ,\n",
       "        4.77942504, 4.83135693, 4.88277429, 4.93368246, 4.98408674,\n",
       "        5.03399238, 5.08340485, 5.13233206, 5.18077913, 5.22875021,\n",
       "        5.27624947, 5.32328104, 5.36984903, 5.41595753, 5.46161062,\n",
       "        5.50681234, 5.55156672, 5.59587776, 5.63974947, 5.68318579,\n",
       "        5.72619069, 5.76876807, 5.81092185, 5.85265591, 5.89397411,\n",
       "        5.93488028, 5.97537826, 6.01547184, 6.05516479, 6.09446088,\n",
       "        6.13336384, 6.17187739, 6.21000522, 6.247751  , 6.2851184 ,\n",
       "        6.32211103, 6.35873251, 6.39498644, 6.43087638, 6.46640587,\n",
       "        6.50157846, 6.53639763, 6.57086689, 6.60498969, 6.63876949,\n",
       "        6.67220969, 6.70531371, 6.73808492, 6.77052669, 6.80264236,\n",
       "        6.83443524, 6.86590864, 6.89706583, 6.92791006, 6.95844457,\n",
       "        6.98867259, 7.01859729, 7.04822185, 7.07754943, 7.10658315,\n",
       "        7.13532613, 7.16378145, 7.19195219, 7.21984139, 7.24745207,\n",
       "        7.27478724, 7.3018499 , 7.32864299, 7.35516947, 7.38143225,\n",
       "        7.40743424, 7.43317832, 7.45866735, 7.48390416, 7.50889158,\n",
       "        7.53363239, 7.55812939, 7.58238531, 7.6064029 , 7.63018487,\n",
       "        7.65373391, 7.6770527 , 7.70014388, 7.72301008, 7.74565391,\n",
       "        7.76807797, 7.79028483, 7.8122771 , 7.83405662, 7.85562508,\n",
       "        7.87698417, 7.89813556, 7.91908093, 7.93982193, 7.96036023,\n",
       "        7.98069747, 8.00083531, 8.02077539, 8.04051934, 8.06006878,\n",
       "        8.07942535, 8.09859066, 8.11756633, 8.13635395, 8.15495512,\n",
       "        8.17337145, 8.19160452, 8.20965591, 8.2275272 , 8.24521996,\n",
       "        8.26273575, 8.28007613, 8.29724266, 8.31423688, 8.33106033,\n",
       "        8.34771455, 8.36420107, 8.3805214 , 8.39667708, 8.41266961,\n",
       "        8.42850049, 8.44417123, 8.45968332, 8.47503824, 8.49023749,\n",
       "        8.50528254, 8.52017485, 8.5349159 , 8.54950714, 8.56395002,\n",
       "        8.578246  , 8.59239651, 8.60640299, 8.62026687, 8.63398957,\n",
       "        8.64757251, 8.66101711, 8.67432476, 8.68749687, 8.70053483,\n",
       "        8.71344004, 8.72621387, 8.7388577 , 8.7513729 , 8.76376084,\n",
       "        8.77602288, 8.78816037, 8.80017465, 8.81206707, 8.82383896,\n",
       "        8.83549166, 8.84702649, 8.85844477, 8.8697478 , 8.88093689,\n",
       "        8.89201336, 8.90297848, 8.91383355, 8.92457985, 8.93521866,\n",
       "        8.94575125, 8.95617888, 8.96650282, 8.97672432, 8.98684462,\n",
       "        8.99686497, 9.0067866 , 9.01661075, 9.02633863, 9.03597147,\n",
       "        9.04551048, 9.05495686, 9.06431182, 9.07357655, 9.08275223,\n",
       "        9.09184006, 9.10084121, 9.10975685, 9.11858815, 9.12733627,\n",
       "        9.13600235, 9.14458755, 9.15309301, 9.1615197 , 9.16986746,\n",
       "        9.17813667, 9.18632786, 9.19444156, 9.2024783 , 9.21043859,\n",
       "        9.21832297, 9.22613196, 9.23386609, 9.24152588, 9.24911186,\n",
       "        9.25662454, 9.26406446, 9.27143213, 9.27872808, 9.28595283,\n",
       "        9.2931069 , 9.30019081, 9.30720507, 9.31415022, 9.32102677,\n",
       "        9.32783523, 9.33457612, 9.34124997, 9.34785729, 9.3543986 ,\n",
       "        9.3608744 , 9.36728523, 9.37363158, 9.37991398, 9.38613295,\n",
       "        9.39228898, 9.39838261, 9.40441433, 9.41038467, 9.41629412,\n",
       "        9.42214321, 9.42793245, 9.43366234, 9.43933339, 9.44494611,\n",
       "        9.45050102, 9.45599861, 9.4614394 , 9.46682389, 9.4721526 ,\n",
       "        9.47742601, 9.48264465, 9.48780901, 9.4929196 , 9.49797693,\n",
       "        9.50298149, 9.50793379, 9.51283433, 9.51768362, 9.52248215,\n",
       "        9.52723043, 9.53192895, 9.53657822, 9.54117874, 9.545731  ,\n",
       "        9.5502355 , 9.55469274, 9.55910322, 9.56346743, 9.56778588,\n",
       "        9.57205905, 9.57628744, 9.58047155, 9.58461187, 9.58870889,\n",
       "        9.59276311, 9.59677502, 9.60074511, 9.60467388, 9.60856181,\n",
       "        9.6124094 , 9.61621714, 9.61998551, 9.623715  , 9.62740612,\n",
       "        9.63105933, 9.63467513, 9.63825401, 9.64179645, 9.64530295,\n",
       "        9.64877397, 9.65221002, 9.65561158, 9.65897912, 9.66231314,\n",
       "        9.66561411, 9.66888252, 9.67211886, 9.67532359, 9.67849721,\n",
       "        9.6816402 , 9.68475303, 9.68783618, 9.69089014, 9.69391538,\n",
       "        9.69691237, 9.69988161, 9.70282356, 9.7057387 , 9.70862751,\n",
       "        9.71149046, 9.71432803, 9.71714069, 9.71992892, 9.72269319,\n",
       "        9.72543397, 9.72815174, 9.73084696, 9.73352012, 9.73617142,\n",
       "        9.73879967, 9.74140476, 9.74398677, 9.74654581, 9.74908198,\n",
       "        9.75159539, 9.75408614, 9.75655433, 9.75900006, 9.76142345,\n",
       "        9.7638246 , 9.76620362, 9.76856061, 9.77089568, 9.77320895,\n",
       "        9.77550051, 9.77777049, 9.78001899, 9.78224612, 9.78445199,\n",
       "        9.78663673, 9.78880044, 9.79094323, 9.79306522, 9.79516653,\n",
       "        9.79724727, 9.79930756, 9.80134752, 9.80336726, 9.8053669 ,\n",
       "        9.80734657, 9.80930638, 9.81124645, 9.8131669 , 9.81506786,\n",
       "        9.81694945, 9.81881179, 9.82065501, 9.82247923, 9.82428457,\n",
       "        9.82607116, 9.82783913, 9.82958861, 9.83131972, 9.83303259,\n",
       "        9.83472735, 9.83640414, 9.83806307, 9.83970428, 9.84132791,\n",
       "        9.84293408, 9.84452293, 9.8460946 , 9.84764921, 9.8491869 ,\n",
       "        9.85070781, 9.85221208, 9.85369983, 9.85517122, 9.85662637,\n",
       "        9.85806542, 9.85948853, 9.86089581, 9.86228742, 9.8636635 ,\n",
       "        9.86502419, 9.86636964, 9.86769998, 9.86901535, 9.87031592,\n",
       "        9.87160181, 9.87287318, 9.87413018, 9.87537294, 9.87660163,\n",
       "        9.87781638, 9.87901735, 9.88020468, 9.88137853, 9.88253905,\n",
       "        9.8836864 , 9.88482071, 9.88594215, 9.88705088, 9.88814703,\n",
       "        9.88923078, 9.89030227, 9.89136167, 9.89240913, 9.8934448 ,\n",
       "        9.89446885, 9.89548144, 9.89648272, 9.89747285, 9.89845201,\n",
       "        9.89942034, 9.90037801, 9.90132519, 9.90226203, 9.90318871,\n",
       "        9.90410538, 9.90501222, 9.90590938, 9.90679704, 9.90767537,\n",
       "        9.90854452, 9.90940468, 9.91025601, 9.91109867, 9.91193285,\n",
       "        9.91275872, 9.91357643, 9.91438618, 9.91518813, 9.91598245,\n",
       "        9.91676932, 9.91754892, 9.91832142, 9.919087  , 9.91984584,\n",
       "        9.92059811, 9.92134399, 9.92208367, 9.92281732, 9.92354512,\n",
       "        9.92426726, 9.92498391, 9.92569526, 9.9264015 , 9.9271028 ,\n",
       "        9.92779935, 9.92849134, 9.92917895, 9.92986237, 9.93054178,\n",
       "        9.93121738, 9.93188935, 9.93255788, 9.93322316, 9.93388538,\n",
       "        9.93454395, 9.93519777, 9.93584683, 9.9364911 , 9.93713059,\n",
       "        9.93776529, 9.93839518, 9.93902027, 9.93964054, 9.940256  ,\n",
       "        9.94086662, 9.94147242, 9.94207337, 9.94266949, 9.94326077,\n",
       "        9.94384719, 9.94442877, 9.9450055 , 9.94557738, 9.9461444 ,\n",
       "        9.94670656, 9.94726388, 9.94781634, 9.94836395, 9.9489067 ,\n",
       "        9.94944461, 9.94997767, 9.95050589, 9.95102927, 9.95154781,\n",
       "        9.95206153, 9.95257041, 9.95307448, 9.95357373, 9.95406818,\n",
       "        9.95455782, 9.95504268, 9.95552275, 9.95599804, 9.95646857,\n",
       "        9.95693434, 9.95739536, 9.95785165, 9.95830321, 9.95875006,\n",
       "        9.95919221, 9.95962967, 9.96006246, 9.96049059, 9.96091407,\n",
       "        9.96133292, 9.96174715, 9.96215678, 9.96256183, 9.96296231,\n",
       "        9.96335823, 9.96374963, 9.96413651, 9.9645189 , 9.96489681,\n",
       "        9.96527027, 9.96563929, 9.9660039 , 9.96636411, 9.96671995,\n",
       "        9.96707144, 9.96741861, 9.96776147, 9.96810006, 9.96843439,\n",
       "        9.96876449, 9.96909039, 9.96941211, 9.96972968, 9.97004313,\n",
       "        9.97035247, 9.97065775, 9.97095899, 9.97125622, 9.97154947,\n",
       "        9.97183876, 9.97212414, 9.97240562, 9.97268325, 9.97295705,\n",
       "        9.97322705, 9.9734933 , 9.97375581, 9.97401464, 9.9742698 ,\n",
       "        9.97452135, 9.9747693 , 9.97501371, 9.9752546 , 9.97549201,\n",
       "        9.97572598, 9.97595655, 9.97618376, 9.97640764, 9.97662824,\n",
       "        9.9768456 , 9.97705975, 9.97727074, 9.97747861, 9.97768341,\n",
       "        9.97788516, 9.97808393, 9.97827975, 9.97847266, 9.97866272,\n",
       "        9.97884996, 9.97903443, 9.97921618, 9.97939526, 9.97957171,\n",
       "        9.97974558, 9.97991692, 9.98008578, 9.9802522 , 9.98041625,\n",
       "        9.98057795, 9.98073738, 9.98089458, 9.9810496 , 9.98120249,\n",
       "        9.98135331, 9.98150211, 9.98164894, 9.98179387, 9.98193693,\n",
       "        9.9820782 , 9.98221772, 9.98235556, 9.98249176, 9.98262639,\n",
       "        9.9827595 , 9.98289116, 9.98302141, 9.98315033, 9.98327797,\n",
       "        9.9834044 , 9.98352966, 9.98365383, 9.98377697, 9.98389914,\n",
       "        9.9840204 , 9.98414082, 9.98426045, 9.98437937, 9.98449765,\n",
       "        9.98461533, 9.9847325 , 9.98484922, 9.98496555, 9.98508157,\n",
       "        9.98519734, 9.98531293, 9.98542841, 9.98554385, 9.98565932,\n",
       "        9.98577488, 9.98589062, 9.98600661, 9.98612291, 9.98623959,\n",
       "        9.98635674, 9.98647443, 9.98659272, 9.9867117 , 9.98683144,\n",
       "        9.98695201, 9.9870735 , 9.98719597, 9.98731951, 9.9874442 ,\n",
       "        9.98756951, 9.98769454, 9.98781927, 9.98794368, 9.98806776,\n",
       "        9.98819148, 9.98831483, 9.98843779, 9.98856035, 9.98868248,\n",
       "        9.98880417, 9.98892541, 9.98904618, 9.98916645, 9.98928623,\n",
       "        9.98940548, 9.9895242 , 9.98964237, 9.98975998, 9.98987701,\n",
       "        9.98999345, 9.99010927, 9.99022448, 9.99033905, 9.99045298,\n",
       "        9.99056624, 9.99067883, 9.99079074, 9.99090194, 9.99101243,\n",
       "        9.9911222 , 9.99123123, 9.99133952, 9.99144704, 9.9915538 ,\n",
       "        9.99165978, 9.99176496, 9.99186935, 9.99197292, 9.99207567,\n",
       "        9.99217758, 9.99227866, 9.99237888, 9.99247825, 9.99257674,\n",
       "        9.99267436, 9.99277109, 9.99286693, 9.99296187, 9.99305589,\n",
       "        9.993149  , 9.99324118, 9.99333244, 9.99342275, 9.99351212,\n",
       "        9.99360053, 9.99368799, 9.99377449, 9.99386001, 9.99394456,\n",
       "        9.99402813, 9.99411071, 9.99419231, 9.99427291, 9.99435251,\n",
       "        9.99443111, 9.9945087 , 9.99458527, 9.99466084, 9.99473539,\n",
       "        9.99480891, 9.99488142, 9.99495289, 9.99502334, 9.99509276,\n",
       "        9.99516115, 9.9952285 , 9.99529482, 9.99536011, 9.99542435,\n",
       "        9.99548756, 9.99554972, 9.99561085, 9.99567094, 9.99573   ,\n",
       "        9.99578801, 9.99584499, 9.99590092, 9.99595583, 9.9960097 ,\n",
       "        9.99606253, 9.99611434, 9.99616511, 9.99621486, 9.99626358,\n",
       "        9.99631129, 9.99635797, 9.99640364, 9.99644829, 9.99649194,\n",
       "        9.99653458, 9.99657622, 9.99661686, 9.99665651, 9.99669517,\n",
       "        9.99673285, 9.99676955, 9.99680528, 9.99684005, 9.99687385,\n",
       "        9.9969067 , 9.99693859, 9.99696955, 9.99699957, 9.99702867,\n",
       "        9.99705684, 9.9970841 , 9.99711045, 9.99713591, 9.99716047,\n",
       "        9.99718416, 9.99720697, 9.99722891, 9.99725   , 9.99727025,\n",
       "        9.99728966, 9.99730824, 9.997326  , 9.99734296, 9.99735912,\n",
       "        9.99737449, 9.99738909, 9.99740293, 9.99741601, 9.99742835,\n",
       "        9.99743997, 9.99745086, 9.99746105, 9.99747055, 9.99747936,\n",
       "        9.99748751, 9.997495  , 9.99750186, 9.99750808, 9.99751369,\n",
       "        9.9975187 , 9.99752313, 9.99752698, 9.99753028, 9.99753304,\n",
       "        9.99753527, 9.99753699, 9.99753821, 9.99753895, 9.99753923,\n",
       "        9.99753907, 9.99753847, 9.99753746, 9.99753605, 9.99753426,\n",
       "        9.9975321 , 9.9975296 , 9.99752678, 9.99752364, 9.99752022,\n",
       "        9.99751652, 9.99751257, 9.99750838, 9.99750398, 9.99749938,\n",
       "        9.99749461, 9.99748968, 9.99748461, 9.99747943, 9.99747415,\n",
       "        9.99746879, 9.99746339, 9.99745795, 9.9974525 , 9.99744706,\n",
       "        9.99744165, 9.9974363 , 9.99743102, 9.99742585, 9.99742079,\n",
       "        9.99741588, 9.99741115, 9.9974066 , 9.99740227, 9.99739818,\n",
       "        9.99739435, 9.99739082, 9.99738759, 9.99738471, 9.99738218,\n",
       "        9.99738005, 9.99737833, 9.99737705, 9.99737624, 9.99737592,\n",
       "        9.99737611, 9.99737686, 9.99737817, 9.99738009, 9.99738263,\n",
       "        9.99738582, 9.9973897 , 9.99739429, 9.99739961, 9.9974057 ,\n",
       "        9.99741259, 9.99742031, 9.99742887, 9.99743832, 9.99744868,\n",
       "        9.99745999, 9.99747227, 9.99748555, 9.99749986, 9.99751524,\n",
       "        9.99753171, 9.99754931, 9.99756807, 9.99758802, 9.99760919,\n",
       "        9.99763161, 9.99765505, 9.99767839, 9.9977015 , 9.99772439,\n",
       "        9.99774706, 9.9977695 , 9.99779173, 9.99781374, 9.99783553,\n",
       "        9.99785711, 9.99787847, 9.99789963, 9.99792058, 9.99794132,\n",
       "        9.99796186, 9.99798219, 9.99800232, 9.99802225, 9.99804199,\n",
       "        9.99806152, 9.99808087, 9.99810002, 9.99811898, 9.99813775,\n",
       "        9.99815633, 9.99817472, 9.99819293, 9.99821096, 9.99822881,\n",
       "        9.99824648, 9.99826397, 9.99828128, 9.99829842, 9.99831538,\n",
       "        9.99833218, 9.9983488 , 9.99836526, 9.99838155, 9.99839767,\n",
       "        9.99841363, 9.99842943, 9.99844507, 9.99846055, 9.99847588,\n",
       "        9.99849104, 9.99850606, 9.99852092, 9.99853563, 9.99855019,\n",
       "        9.9985646 , 9.99857887, 9.99859299, 9.99860697, 9.9986208 ,\n",
       "        9.9986345 , 9.99864805, 9.99866147, 9.99867476, 9.9986879 ,\n",
       "        9.99870092, 9.9987138 , 9.99872655, 9.99873918, 9.99875167,\n",
       "        9.99876404, 9.99877629, 9.99878841, 9.99880041, 9.99881229,\n",
       "        9.99882405, 9.99883569, 9.99884722, 9.99885863, 9.99886993,\n",
       "        9.99888112, 9.99889219, 9.99890316, 9.99891401, 9.99892476,\n",
       "        9.9989354 , 9.99894594, 9.99895638, 9.99896671, 9.99897695,\n",
       "        9.99898708, 9.99899712, 9.99900706, 9.9990169 , 9.99902665,\n",
       "        9.99903631, 9.99904588, 9.99905535, 9.99906474, 9.99907403]])\n",
       " y_events: None"
      ]
     },
     "execution_count": 22,
     "metadata": {},
     "output_type": "execute_result"
    }
   ],
   "source": [
    "sol"
   ]
  },
  {
   "cell_type": "code",
   "execution_count": 8,
   "metadata": {},
   "outputs": [
    {
     "data": {
      "text/plain": [
       "array([0.00000000e+00, 1.00000000e-04, 1.10000000e-03, 1.11000000e-02,\n",
       "       1.11100000e-01, 1.11110000e+00, 7.06326432e+00, 1.50691026e+01,\n",
       "       2.47504347e+01, 3.63496035e+01, 5.04103419e+01, 6.79110578e+01,\n",
       "       9.05408881e+01, 1.00000000e+02])"
      ]
     },
     "execution_count": 8,
     "metadata": {},
     "output_type": "execute_result"
    }
   ],
   "source": [
    "sol.t"
   ]
  },
  {
   "cell_type": "code",
   "execution_count": 9,
   "metadata": {},
   "outputs": [
    {
     "data": {
      "text/plain": [
       "array([[0.00000000e+00, 9.99995000e-05, 1.09993950e-03, 1.10938418e-02,\n",
       "        1.10485119e-01, 1.05159689e+00, 5.06530968e+00, 7.78344652e+00,\n",
       "        9.15735283e+00, 9.73483805e+00, 9.93395370e+00, 9.98745806e+00,\n",
       "        9.99764115e+00, 9.99908324e+00]])"
      ]
     },
     "execution_count": 9,
     "metadata": {},
     "output_type": "execute_result"
    }
   ],
   "source": [
    "sol.y"
   ]
  },
  {
   "cell_type": "code",
   "execution_count": 23,
   "metadata": {},
   "outputs": [
    {
     "data": {
      "image/png": "[encoded data removed]",
      "text/plain": [
       "<Figure size 432x288 with 1 Axes>"
      ]
     },
     "metadata": {
      "needs_background": "light"
     },
     "output_type": "display_data"
    }
   ],
   "source": [
    "plt.plot(sol.t, sol.y[0], label='solve_ivp')\n",
    "\n",
    "plt.plot([0.,t[-1]], [const, const], '--')\n",
    "\n",
    "plt.plot(t,X, 'gray', label='analytical') \n",
    "\n",
    "\n",
    "plt.ylim(0.,12.)\n",
    "plt.xlim(0.,t[-1])\n",
    "plt.xlabel('t', fontsize = 14)\n",
    "plt.ylabel('X', fontsize = 14)\n",
    "plt.title('Numerical solution from solve_ivp')\n",
    "plt.legend()\n",
    "plt.show()"
   ]
  },
  {
   "cell_type": "markdown",
   "metadata": {},
   "source": [
    "### Advanced: Enzyme reaction and Michaelis-Menten kinetics\n",
    "Now let's give a look at the system of ODEs you would write to study Enzyme Reaction kinetics, and the Michaelis-Menten approximation.\n",
    "\n",
    "Let's first define the set of ODEs for\n",
    "$$\n",
    "S + E \\rightleftharpoons C \\rightarrow P + E \n",
    "$$\n",
    "with $k_1$ adn $k_2$ the rate constants (forward and backward respectively) for the first step, $k_3$ for the second. Concentrations are indicated with the lower case letters $s,e,c,p$."
   ]
  },
  {
   "cell_type": "code",
   "execution_count": 31,
   "metadata": {},
   "outputs": [],
   "source": [
    "def enzymatic_reaction(t, y, k1, k2, k3):\n",
    "    s, e, c, p = y\n",
    "    return [-k1*s*e + k2*c, -k1*s*e + k2*c + k3*c, k1*s*e - k2*c - k3*c, k3*c]"
   ]
  },
  {
   "cell_type": "code",
   "execution_count": 35,
   "metadata": {},
   "outputs": [],
   "source": [
    "k1 = 1.\n",
    "k2 = 0.1\n",
    "k3 = 1.\n",
    "\n",
    "e_tot = 1.\n",
    "s0 = 1.\n",
    "\n",
    "sol = solve_ivp(enzymatic_reaction, [0, 10], [s0, e_tot, 0., 0.], args=[k1, k2, k3], method='LSODA')\n"
   ]
  },
  {
   "cell_type": "code",
   "execution_count": 36,
   "metadata": {},
   "outputs": [
    {
     "data": {
      "text/plain": [
       "  message: 'The solver successfully reached the end of the integration interval.'\n",
       "     nfev: 92\n",
       "     njev: 0\n",
       "      nlu: 0\n",
       "      sol: None\n",
       "   status: 0\n",
       "  success: True\n",
       "        t: array([0.00000000e+00, 1.41279935e-03, 1.55407929e-02, 1.56820728e-01,\n",
       "       3.88092959e-01, 7.35826775e-01, 1.20999680e+00, 1.81923315e+00,\n",
       "       2.58544492e+00, 3.49297441e+00, 4.48208009e+00, 5.50830356e+00,\n",
       "       6.57041723e+00, 7.68518534e+00, 8.87318743e+00, 1.00000000e+01])\n",
       " t_events: None\n",
       "        y: array([[1.00000000e+00, 9.98589293e-01, 9.84708184e-01, 8.64919505e-01,\n",
       "        7.19738397e-01, 5.65611196e-01, 4.17440264e-01, 2.83074931e-01,\n",
       "        1.69879223e-01, 8.95278981e-02, 4.32004022e-02, 1.99819443e-02,\n",
       "        8.98115472e-03, 3.90034062e-03, 1.61546270e-03, 7.03731407e-04],\n",
       "       [1.00000000e+00, 9.98590289e-01, 9.84827029e-01, 8.75459258e-01,\n",
       "        7.72391821e-01, 7.10407448e-01, 7.03373866e-01, 7.39943137e-01,\n",
       "        8.02351673e-01, 8.69771311e-01, 9.23834036e-01, 9.59127189e-01,\n",
       "        9.79567792e-01, 9.90469552e-01, 9.95871123e-01, 9.98156050e-01],\n",
       "       [0.00000000e+00, 1.40971053e-03, 1.51729713e-02, 1.24540742e-01,\n",
       "        2.27608179e-01, 2.89592552e-01, 2.96626134e-01, 2.60056863e-01,\n",
       "        1.97648327e-01, 1.30228689e-01, 7.61659636e-02, 4.08728110e-02,\n",
       "        2.04322081e-02, 9.53044808e-03, 4.12887735e-03, 1.84394962e-03],\n",
       "       [0.00000000e+00, 9.96545789e-07, 1.18844337e-04, 1.05397529e-02,\n",
       "        5.26534245e-02, 1.44796252e-01, 2.85933602e-01, 4.56868207e-01,\n",
       "        6.32472450e-01, 7.80243413e-01, 8.80633634e-01, 9.39145245e-01,\n",
       "        9.70586637e-01, 9.86569211e-01, 9.94255660e-01, 9.97452319e-01]])\n",
       " y_events: None"
      ]
     },
     "execution_count": 36,
     "metadata": {},
     "output_type": "execute_result"
    }
   ],
   "source": [
    "sol"
   ]
  },
  {
   "cell_type": "code",
   "execution_count": 37,
   "metadata": {},
   "outputs": [
    {
     "data": {
      "image/png": "[encoded data removed]",
      "text/plain": [
       "<Figure size 432x288 with 1 Axes>"
      ]
     },
     "metadata": {
      "needs_background": "light"
     },
     "output_type": "display_data"
    }
   ],
   "source": [
    "plt.plot(sol.t, sol.y[0], label='s')\n",
    "plt.plot(sol.t, sol.y[1], label='e')\n",
    "plt.plot(sol.t, sol.y[2], label='c')\n",
    "plt.plot(sol.t, sol.y[3], label='p')\n",
    "\n",
    "#plt.ylim(0.,12.)\n",
    "plt.xlim(0.,sol.t[-1])\n",
    "plt.xlabel('t [h]', fontsize = 14)\n",
    "plt.ylabel('concentrations [mM]', fontsize = 14)\n",
    "plt.title('Enzyme reaction kinetics')\n",
    "plt.legend()\n",
    "plt.show()"
   ]
  },
  {
   "cell_type": "markdown",
   "metadata": {},
   "source": [
    "Then we can check whether the hypotheses of the Michaelis-Menten (MM) approximation are satisfied in this case or not, and compute $p$ starting from the MM formula:\n",
    "$$\n",
    "\\frac{dp}{dt} = k_3 \\frac{e_\\text{tot}s}{\\frac{k_2}{k_1}+s} \\,.\n",
    "$$"
   ]
  },
  {
   "cell_type": "code",
   "execution_count": 15,
   "metadata": {},
   "outputs": [],
   "source": [
    "def mm_product(k1, k2, k3, e_tot, s):\n",
    "    return k3*e_tot*s/(k2/k1+s)"
   ]
  },
  {
   "cell_type": "code",
   "execution_count": 16,
   "metadata": {},
   "outputs": [],
   "source": [
    "p_mm = []   # We will build here the numerical solution for the mm\n",
    "\n",
    "# Set the initial conditions:\n",
    "p_mm.append(0.)\n",
    "t_prev = 0.\n",
    "for t, substrate in zip(sol.t, sol.y[0]):\n",
    "    p_prev = p_mm[-1]\n",
    "    delta = t - t_prev\n",
    "    p_next = p_prev + mm_product(k1, k2, k3, e_tot, substrate)*delta\n",
    "    t_prev = t\n",
    "    if delta >0:\n",
    "        #if p_next > 1:\n",
    "        #    p_next = 1\n",
    "        p_mm.append(p_next)\n",
    "        "
   ]
  },
  {
   "cell_type": "code",
   "execution_count": 17,
   "metadata": {},
   "outputs": [
    {
     "data": {
      "image/png": "[encoded data removed]",
      "text/plain": [
       "<Figure size 432x288 with 1 Axes>"
      ]
     },
     "metadata": {
      "needs_background": "light"
     },
     "output_type": "display_data"
    }
   ],
   "source": [
    "plt.plot(sol.t, sol.y[0], label='s')\n",
    "plt.plot(sol.t, sol.y[1], label='e')\n",
    "plt.plot(sol.t, sol.y[2], label='c')\n",
    "plt.plot(sol.t, sol.y[3], label='p')\n",
    "plt.plot(sol.t[10:], (sol.y[0][10:]*sol.y[1][10:]/sol.y[2][10:]), ':', label='es/c')\n",
    "\n",
    "plt.plot(sol.t, p_mm,'b--',label='MM')\n",
    "\n",
    "plt.ylim(0.1,10)\n",
    "plt.semilogy()\n",
    "plt.xlim(0.,sol.t[-1])\n",
    "plt.xlabel('t [h]', fontsize = 14)\n",
    "plt.ylabel('concentrations [mM]', fontsize = 14)\n",
    "plt.title('Enzyme reaction kinetics')\n",
    "plt.legend()\n",
    "plt.show()"
   ]
  },
  {
   "cell_type": "code",
   "execution_count": null,
   "metadata": {},
   "outputs": [],
   "source": []
  }
 ],
 "metadata": {
  "kernelspec": {
   "display_name": "Python 3 (ipykernel)",
   "language": "python",
   "name": "python3"
  },
  "language_info": {
   "codemirror_mode": {
    "name": "ipython",
    "version": 3
   },
   "file_extension": ".py",
   "mimetype": "text/x-python",
   "name": "python",
   "nbconvert_exporter": "python",
   "pygments_lexer": "ipython3",
   "version": "3.9.7"
  }
 },
 "nbformat": 4,
 "nbformat_minor": 4
}
