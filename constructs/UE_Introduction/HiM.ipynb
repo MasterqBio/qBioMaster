{
 "cells": [
  {
   "cell_type": "markdown",
   "metadata": {},
   "source": [
    "# Hi-M / chromatin tracing construct\n",
    "\n",
    "## aims\n",
    "\n",
    "In this tutorial you will \n",
    "\n",
    "1. Read tutorials on methods to visualize chromosome organization by imaging\n",
    "2. Answer questionnaire\n",
    "3. Further reading\n",
    "\n",
    "## credits\n",
    "\n",
    "Marcelo Nollmann, Sep 2022\n",
    "\n",
    "---"
   ]
  },
  {
   "cell_type": "markdown",
   "metadata": {},
   "source": [
    "### 1- Resources\n",
    "\n",
    "- Watch [lecture by M Nollmann on Hi-M (min 1-20')](https://www.youtube.com/watch?v=QeVGQKGd9fk)\n",
    "- Watch [lecture by A. Boettiger on ORCA (min 1'-23')](https://www.youtube.com/watch?v=fxaCpFSVkCA).\n"
   ]
  },
  {
   "cell_type": "markdown",
   "metadata": {},
   "source": [
    "### 2- Questionnaire\n",
    "\n",
    "Plase answer the following questions\n",
    "- What is the precision of localization of individual barcodes?\n",
    "- What is the maximum number of barcodes that one could visualize using conventional microscopy? What is the main physical limitation to increase this number?\n",
    "- What is the role of microfluidics in Hi-M?\n",
    "- Why is it important to visualize chromosome structure in single cells? \n",
    "- Are results obtained by Hi-M/ chromatin traching new? Please cite a couple of results that could not be obtained by ensemble Hi-C.\n"
   ]
  },
  {
   "cell_type": "markdown",
   "metadata": {
    "tags": []
   },
   "source": [
    "### 3- Further reading\n",
    "\n",
    "\n",
    "For applications and further reading on Hi-M / chromatin tracing:\n",
    "- Watch [lecture by M Nollmann on Hi-M (min 21'-end)](https://www.youtube.com/watch?v=QeVGQKGd9fk) for applications of Hi-M. Find here the [slides of the presentation](resources/Nollmann_3Dgenomics.pdf).\n",
    "- Watch entire [lecture by A. Boettiger on ORCA (min 1'-63')](https://www.youtube.com/watch?v=fxaCpFSVkCA).\n",
    "\n",
    "Journal Club:\n",
    "\n",
    "- [Cis-regulatory chromatin loops arise before TADs and gene activation, and are independent of cell fate during development](https://www.ncbi.nlm.nih.gov/pmc/articles/PMC6556380/pdf/nihms-1522656.pdf) by Espinoa et al. (2021). Download PDF [here](data/s41588-021-00816-z.pdf).\n",
    "    \n",
    "- [Visualizing DNA folding and RNA in embryos at single-cell resolution](https://www.ncbi.nlm.nih.gov/pmc/articles/PMC6556380/pdf/nihms-1522656.pdf) by Mateo et al. (2019)\n",
    "\n",
    "More reading on chromatin-tracing methods:\n",
    "- [Super-resolution imaging reveals distinct chromatin folding for different epigenetic states](https://www.ncbi.nlm.nih.gov/pmc/articles/PMC4905822/pdf/nihms741415.pdf) by Wang et al. (2016)\n",
    "- [Super-resolution chromatin tracing reveals domains and cooperative interactions in single cells](https://www.ncbi.nlm.nih.gov/pmc/articles/PMC6535145/pdf/nihms-1028757.pdf) by Bintu et al. (2018) --> chromatin tracing\n",
    "- [Microscopy-Based Chromosome Conformation Capture Enables Simultaneous Visualization of Genome Organization and Transcription in Intact Organisms](https://www.sciencedirect.com/science/article/pii/S1097276519300115/pdfft?md5=25c3dc724490bd9743f92cc0ffebe476&pid=1-s2.0-S1097276519300115-main.pdf) by Cardozo et al. (2019) --> Hi-M\n",
    "\n",
    "If you want to learn about RNA detection methods, a good resource is:\n",
    "- [RNA detection methods](https://www.youtube.com/watch?v=cIUhMfCzcJk) by Rob Singer\n",
    "- [Lecture by X Zhuang on MERFISH (min 20'-55')](https://www.youtube.com/watch?v=1fhD_9oaH5E).\n",
    "\n",
    "\n"
   ]
  }
 ],
 "metadata": {
  "kernelspec": {
   "display_name": "Python 3 (ipykernel)",
   "language": "python",
   "name": "python3"
  },
  "language_info": {
   "codemirror_mode": {
    "name": "ipython",
    "version": 3
   },
   "file_extension": ".py",
   "mimetype": "text/x-python",
   "name": "python",
   "nbconvert_exporter": "python",
   "pygments_lexer": "ipython3",
   "version": "3.9.12"
  }
 },
 "nbformat": 4,
 "nbformat_minor": 4
}
