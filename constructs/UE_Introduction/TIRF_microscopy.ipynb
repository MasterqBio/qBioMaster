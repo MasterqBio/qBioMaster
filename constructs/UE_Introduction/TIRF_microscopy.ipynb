{
 "cells": [
  {
   "cell_type": "markdown",
   "metadata": {},
   "source": [
    "# TIRFM microscopy construct\n",
    "\n",
    "## aims\n",
    "\n",
    "In this tutorial you will \n",
    "1. Read tutorials on TIRFM microscopy\n",
    "2. Answer questionnaire\n",
    "3. `Advanced` Run module on improvement on depth sectionning \n",
    "4. `Advanced` Run module on characterization of lateral and axial resolutions \n",
    "5- Further reading\n",
    "\n",
    "## warnings \n",
    "\n",
    "Make sure MPLBACKEND is not defined as `agg` otherwise you will see no graphical output!\n",
    "To make sure of this, run the following command before invoking `jupyter lab`:\n",
    "\n",
    "```sh\n",
    "export MPLBACKEND=\n",
    "```\n",
    "\n",
    "\n",
    "## credits\n",
    "\n",
    "Marcelo Nollmann, June 2021\n",
    "\n",
    "---"
   ]
  },
  {
   "cell_type": "markdown",
   "metadata": {},
   "source": [
    "### 1- TIRFM microscopy resources\n",
    "\n",
    "First, what does TIRFM stand for? Total Internal Reflection Fluorescence Microscopy\n",
    "In this part, you should read a basic tutorial on TIRF microscopy. There are standard sources that you can follow for this:\n",
    "\n",
    "- [Total Internal Reflection Fluorescence (TIRF) Microscopy](https://www.ncbi.nlm.nih.gov/pmc/articles/PMC4540339/)\n",
    "- [Nikon Microscopy U](https://www.microscopyu.com/techniques/fluorescence/total-internal-reflection-fluorescence-tirf-microscopy)\n",
    "- [Olympus tutorial](https://www.olympus-lifescience.com/en/microscope-resource/primer/techniques/confocal/applications/tirfmintro/)\n"
   ]
  },
  {
   "cell_type": "markdown",
   "metadata": {},
   "source": [
    "### 2- Questionnaire\n",
    "\n",
    "Plase answer the following questions\n",
    "- What are the key components of a TIRF microscope, and what role does each component play in the imaging process?\n",
    "- How does TIRF microscopy differ from traditional widefield fluorescence microscopy in terms of illumination and image formation?\n",
    "- Describe the concept of the evanescent wave in TIRF microscopy. Explain why a TIRF microscope enables rejection of background light.\n",
    "- What determines the penetration depth?\n",
    "- What is the critical angle?\n",
    "- Can all objectives be used for TIRF microscopy modes? What is the critical parameter that you should be looking for?\n",
    "- Discuss the advantages and limitations of TIRF microscopy compared to other fluorescence microscopy techniques, such as confocal microscopy and two-photon microscopy.\n",
    "- What types of biological processes and cellular structures are particularly well-suited for investigation using TIRF microscopy?\n",
    "- Describe the concept of single-molecule TIRF microscopy. How does it enable the study of individual molecules or nanoparticles at the cell membrane?\n",
    "- How can TIRF microscopy be used to study dynamic processes in living cells, such as membrane trafficking or protein-protein interactions?\n",
    "  "
   ]
  },
  {
   "cell_type": "markdown",
   "metadata": {},
   "source": [
    "### 3- `Advanced` Calculate improvement on depth sectioning\n"
   ]
  },
  {
   "cell_type": "code",
   "execution_count": 12,
   "metadata": {},
   "outputs": [
    {
     "name": "stdout",
     "output_type": "stream",
     "text": [
      "Image size: (511, 511)\n",
      "Image size: (511, 511)\n",
      "Images read: ['widefield', 'TIRF']\n"
     ]
    }
   ],
   "source": [
    "# Load widefield and confocal images of diffraction-limited spots\n",
    "\n",
    "from skimage import io\n",
    "import matplotlib.pyplot as plt\n",
    "import numpy as np\n",
    "\n",
    "def read_images():\n",
    "    \n",
    "    fileName_widefield = 'data/AF594_Epi_2.tif'\n",
    "    data_widefield = io.imread(fileName_widefield).squeeze()\n",
    "    print(\"Image size: {}\".format(data_widefield.shape))\n",
    "\n",
    "    fileName_TIRF = 'data/AF594_TIRF_2.tif'\n",
    "    data_TIRF = io.imread(fileName_TIRF).squeeze()\n",
    "    print(\"Image size: {}\".format(data_TIRF.shape))\n",
    "\n",
    "    return [data_widefield,data_TIRF],['widefield','TIRF']\n",
    "\n",
    "def display_images(images,titles):\n",
    "    fig, axes = plt.subplots(1, len(images))\n",
    "    ax = axes.ravel()\n",
    "    fig.set_size_inches((5*len(images), 5))\n",
    "\n",
    "    for image, axis, title in zip(images,ax,titles):\n",
    "        axis.imshow(image, cmap='Greys')\n",
    "        axis.set_title(title)\n",
    "\n",
    "images,titles=read_images()\n",
    "print(\"Images read: {}\".format(titles))\n",
    "\n",
    "# display images\n",
    "display_images(images,titles)"
   ]
  },
  {
   "cell_type": "markdown",
   "metadata": {},
   "source": [
    "### 4- `Advanced` Calculate image resolution in 3D \n"
   ]
  },
  {
   "cell_type": "code",
   "execution_count": null,
   "metadata": {},
   "outputs": [],
   "source": [
    "\n",
    "# define ROI containing some diffraction-limited spots and display for both images\n",
    "\n",
    "# Calculate the x- and y- profiles for epi and TIRF and plot together\n",
    "\n",
    "# Fit profiles to gaussian function to estimate width of the PSF\n",
    "\n",
    "# Estimate the signal to noise ratio, defined as the <intensity signal> / <stardard deviation of background> \n"
   ]
  },
  {
   "cell_type": "markdown",
   "metadata": {},
   "source": [
    "### 5- Further reading\n",
    "\n",
    "Now that you know everything about TIRFM microscopy, you can read on the following resources that will help you understand when and how TIRFM microscopy is used in real life!\n",
    "\n",
    "If you did not do the `Advanced` modules, please choose one of these papers and read in detail.\n",
    "\n",
    "- [Coupled, circumferential motions of the cell wall synthesis machinery and MreB filaments in B. subtilis](https://www.ncbi.nlm.nih.gov/pmc/articles/PMC3235694/)\n",
    "- [The mechanism of force transmission at bacterial focal adhesion complexes](https://www.ncbi.nlm.nih.gov/pmc/articles/PMC5465867/)\n",
    "- [Direct measurement of the evanescent field profile produced by objective-based total internal reflection fluorescence](https://www.spiedigitallibrary.org/journals/journal-of-biomedical-optics/volume-11/issue-01/014006/Direct-measurement-of-the-evanescent-field-profile-produced-by-objective/10.1117/1.2161018.full?SSO=1)\n",
    "- [ Three-dimensional total-internal reflection fluorescence nanoscopy with nanometric axial resolution by photometric localization of single molecules ](https://www.nature.com/articles/s41467-020-20863-0)\n",
    "\n"
   ]
  }
 ],
 "metadata": {
  "kernelspec": {
   "display_name": "Python 3 (ipykernel)",
   "language": "python",
   "name": "python3"
  },
  "language_info": {
   "codemirror_mode": {
    "name": "ipython",
    "version": 3
   },
   "file_extension": ".py",
   "mimetype": "text/x-python",
   "name": "python",
   "nbconvert_exporter": "python",
   "pygments_lexer": "ipython3",
   "version": "3.9.18"
  }
 },
 "nbformat": 4,
 "nbformat_minor": 4
}
